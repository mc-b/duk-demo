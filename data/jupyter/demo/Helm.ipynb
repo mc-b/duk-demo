{
 "cells": [
  {
   "cell_type": "markdown",
   "metadata": {},
   "source": [
    "Helm\n",
    "----\n",
    "\n",
    "![](https://helm.sh/img/chart-illustration.png)\n",
    "\n",
    "Quelle: https://helm.sh/\n",
    "- - - \n",
    "\n",
    "[Helm](https://helm.sh/) ist ein Werkzeug zur Verwaltung von Kubernetes-Charts. \n",
    "\n",
    "[Kubernetes-Charts](https://github.com/helm/charts) sind Pakete vorkonfigurierter Kubernetes-Ressourcen, welche wie Gesamthaft mittels eines Befehles installiert werden können\n",
    "\n",
    "Helm Einsatzgebiete:\n",
    "* Suchen und verwenden Sie beliebte Software, die als Kubernetes-Charts verpackt ist\n",
    "* Teilen Sie Ihre eigenen Anwendungen als Kubernetes-Charts\n",
    "* Erstellen Sie reproduzierbare Builds Ihrer Kubernetes-Anwendungen\n",
    "* Verwalten Sie Ihre Kubernetes-Manifestdateien auf intelligente Weise\n",
    "* Verwalten Sie Releases von Helm-Paketen"
   ]
  },
  {
   "cell_type": "markdown",
   "metadata": {},
   "source": [
    "***\n",
    "### Installation\n",
    "\n",
    "Helm auf der Serverseite (tiller) ist in der [duk-demo](https://github.com/mc-b/duk-demo) Umgebung bereits installiert.  Ansonsten siehe Projekt [duk](https://github.com/mc-b/duk/tree/master/helm).\n",
    "\n",
    "Wir brauchen noch den Client und müssen diesen Initialisieren:"
   ]
  },
  {
   "cell_type": "code",
   "execution_count": 1,
   "metadata": {},
   "outputs": [
    {
     "name": "stdout",
     "output_type": "stream",
     "text": [
      "x linux-amd64/\n",
      "x linux-amd64/tiller\n",
      "x linux-amd64/LICENSE\n",
      "x linux-amd64/helm\n",
      "x linux-amd64/README.md\n",
      "$HELM_HOME has been configured at /home/jovyan/.helm.\n",
      "Not installing Tiller due to 'client-only' flag having been set\n"
     ]
    }
   ],
   "source": [
    "! curl -s -L https://get.helm.sh/helm-v2.15.1-linux-amd64.tar.gz | bsdtar xvf - && mv linux-amd64/helm .; rm -rf linux-amd64\n",
    "! ./helm init --client-only"
   ]
  },
  {
   "cell_type": "markdown",
   "metadata": {},
   "source": [
    "***\n",
    "### Services starten\n",
    "\n",
    "Nun sind wir bereit und können Services, mittels [Kubernetes-Charts](https://github.com/helm/charts), installieren.\n",
    "\n",
    "Beginnen wollen wir mit [Jenkins](https://jenkins.io/):"
   ]
  },
  {
   "cell_type": "code",
   "execution_count": 2,
   "metadata": {},
   "outputs": [
    {
     "name": "stdout",
     "output_type": "stream",
     "text": [
      "NAME:   myjenkins\n",
      "LAST DEPLOYED: Mon Oct 28 14:30:58 2019\n",
      "NAMESPACE: default\n",
      "STATUS: DEPLOYED\n",
      "\n",
      "RESOURCES:\n",
      "==> v1/ConfigMap\n",
      "NAME             DATA  AGE\n",
      "myjenkins        5     2s\n",
      "myjenkins-tests  1     2s\n",
      "\n",
      "==> v1/Deployment\n",
      "NAME       READY  UP-TO-DATE  AVAILABLE  AGE\n",
      "myjenkins  0/1    1           0          1s\n",
      "\n",
      "==> v1/PersistentVolumeClaim\n",
      "NAME       STATUS  VOLUME         CAPACITY  ACCESS MODES  STORAGECLASS   AGE\n",
      "myjenkins  Bound   rwo-volume-01  50Gi      RWO           local-storage  2s  Filesystem\n",
      "\n",
      "==> v1/Pod(related)\n",
      "NAME                        READY  STATUS    RESTARTS  AGE\n",
      "myjenkins-5484fbf8f5-7nvx8  0/1    Init:0/1  0         1s\n",
      "\n",
      "==> v1/Role\n",
      "NAME                       AGE\n",
      "myjenkins-schedule-agents  2s\n",
      "\n",
      "==> v1/RoleBinding\n",
      "NAME                       AGE\n",
      "myjenkins-schedule-agents  1s\n",
      "\n",
      "==> v1/Secret\n",
      "NAME       TYPE    DATA  AGE\n",
      "myjenkins  Opaque  2     2s\n",
      "\n",
      "==> v1/Service\n",
      "NAME             TYPE          CLUSTER-IP      EXTERNAL-IP  PORT(S)         AGE\n",
      "myjenkins        LoadBalancer  10.100.233.43   <pending>    8080:31901/TCP  1s\n",
      "myjenkins-agent  ClusterIP     10.107.143.172  <none>       50000/TCP       1s\n",
      "\n",
      "==> v1/ServiceAccount\n",
      "NAME       SECRETS  AGE\n",
      "myjenkins  1        2s\n",
      "\n",
      "\n",
      "NOTES:\n",
      "1. Get your 'admin' user password by running:\n",
      "  printf $(kubectl get secret --namespace default myjenkins -o jsonpath=\"{.data.jenkins-admin-password}\" | base64 --decode);echo\n",
      "2. Get the Jenkins URL to visit by running these commands in the same shell:\n",
      "  NOTE: It may take a few minutes for the LoadBalancer IP to be available.\n",
      "        You can watch the status of by running 'kubectl get svc --namespace default -w myjenkins'\n",
      "  export SERVICE_IP=$(kubectl get svc --namespace default myjenkins --template \"{{ range (index .status.loadBalancer.ingress 0) }}{{ . }}{{ end }}\")\n",
      "  echo http://$SERVICE_IP:8080/login\n",
      "\n",
      "3. Login with the password from step 1 and the username: admin\n",
      "\n",
      "\n",
      "For more information on running Jenkins on Kubernetes, visit:\n",
      "https://cloud.google.com/solutions/jenkins-on-container-engine\n",
      "\n"
     ]
    }
   ],
   "source": [
    "! ./helm install --name myjenkins stable/jenkins"
   ]
  },
  {
   "cell_type": "markdown",
   "metadata": {},
   "source": [
    "Im Gegensatz zum Recht einfachen Beispiel [Jenkins mit Blueocean](https://github.com/mc-b/duk/tree/master/devops#jenkins-mit-blueocean) wurden einiges mehr an Ressourcen erstellt u.a.:\n",
    "\n",
    "* ConfigMap für die Konfiguration\n",
    "* PersistenVolumeClaim zur Ablage der Daten\n",
    "* Role und Service Account für Interation Agent - Jenkins?\n",
    "\n",
    "Ausserdem wurde Password generiert. Diese und den UI-Port können wie wie folgt abfragen:"
   ]
  },
  {
   "cell_type": "code",
   "execution_count": 3,
   "metadata": {},
   "outputs": [
    {
     "name": "stdout",
     "output_type": "stream",
     "text": [
      "User    : admin\n",
      "Password: lbUVu5qbZV\n",
      "UI      : http://192.168.137.100:31901\n"
     ]
    }
   ],
   "source": [
    "! echo \"User    : admin\"\n",
    "! echo \"Password: \"$(kubectl get secret --namespace default myjenkins -o jsonpath=\"{.data.jenkins-admin-password}\" | base64 --decode)\n",
    "! echo \"UI      : \"$(kubectl config view -o=jsonpath='{ .clusters[0].cluster.server }' | sed -e 's/https:/http:/' -e \"s/6443/$(kubectl get service myjenkins -o=jsonpath='{ .spec.ports[0].nodePort }')/\")"
   ]
  },
  {
   "cell_type": "markdown",
   "metadata": {},
   "source": [
    "Wie bei [Jenkins mit Blueocean](https://github.com/mc-b/duk/tree/master/devops#jenkins-mit-blueocean) können wir mittels \"neues Projekt\" -> \"Multibranch Pipeline\" und Angabe eines Git Repositories, z.B. [https://github.com/mc-b/simple-java-maven-app](https://github.com/mc-b/simple-java-maven-app) im User Interface einen Job anlegen.\n",
    "\n",
    "Wenn wir Jenkins nicht mehr brauchen, können wir den Service wieder löschen:\n"
   ]
  },
  {
   "cell_type": "code",
   "execution_count": 4,
   "metadata": {},
   "outputs": [
    {
     "name": "stdout",
     "output_type": "stream",
     "text": [
      "release \"myjenkins\" deleted\r\n"
     ]
    }
   ],
   "source": [
    "! ./helm delete --purge myjenkins"
   ]
  },
  {
   "cell_type": "code",
   "execution_count": null,
   "metadata": {},
   "outputs": [],
   "source": []
  }
 ],
 "metadata": {
  "kernelspec": {
   "display_name": "Python 3",
   "language": "python",
   "name": "python3"
  },
  "language_info": {
   "codemirror_mode": {
    "name": "ipython",
    "version": 3
   },
   "file_extension": ".py",
   "mimetype": "text/x-python",
   "name": "python",
   "nbconvert_exporter": "python",
   "pygments_lexer": "ipython3",
   "version": "3.7.3"
  }
 },
 "nbformat": 4,
 "nbformat_minor": 2
}
