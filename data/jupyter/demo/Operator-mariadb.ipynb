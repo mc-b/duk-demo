{
 "cells": [
  {
   "attachments": {},
   "cell_type": "markdown",
   "metadata": {},
   "source": [
    "Operator Pattern am Beispiel MariaDB\n",
    "------------------------------------\n",
    "\n",
    "[MariaDB](https://mariadb.org/) ist ein freies, relationales Open-Source-Datenbankmanagementsystem, das durch eine Abspaltung aus MySQL entstanden ist\n",
    "\n",
    "Der [MariaDB Operator](https://operatorhub.io/operator/mariadb-operator-app) erweitert Kubernetes um [CustomResourceDefinition](https://kubernetes.io/docs/tasks/extend-kubernetes/custom-resources/custom-resource-definitions/) für MariaDB.\n",
    "\n",
    "Die neu erstellten [CustomResource Definitionen](https://kubernetes.io/docs/tasks/extend-kubernetes/custom-resources/custom-resource-definitions/) sind:\n",
    "* MariaDB Server - Verwaltung der Datenbank\n",
    "* MariaDB Backup - Backup der Datenbank\n",
    "* MariaDB Monitor - Monitoring der Datenbank\n",
    "\n",
    "### Installation MariaDB Operator"
   ]
  },
  {
   "cell_type": "code",
   "execution_count": null,
   "metadata": {},
   "outputs": [],
   "source": [
    "%%bash\n",
    "export NAMESPACE=mariadb\n",
    "git clone https://github.com/abalki001/mariadb-operator.git\n",
    "cd mariadb-operator\n",
    "echo ....... Creating namespace ....... \n",
    "kubectl create namespace ${NAMESPACE}\n",
    "echo ....... Applying CRDs .......\n",
    "kubectl apply -f deploy/crds/mariadb.persistentsys_mariadbs_crd.yaml -n ${NAMESPACE}\n",
    "kubectl apply -f deploy/crds/mariadb.persistentsys_backups_crd.yaml -n ${NAMESPACE}\n",
    "kubectl apply -f deploy/crds/mariadb.persistentsys_monitors_crd.yaml -n ${NAMESPACE}\n",
    "echo ....... Applying Rules and Service Account .......\n",
    "kubectl apply -f deploy/service_account.yaml  -n ${NAMESPACE}\n",
    "kubectl apply -f deploy/role.yaml -n ${NAMESPACE}\n",
    "sed -i 's/.*namespace:.*/    namespace: ${NAMESPACE}/' deploy/role_binding.yaml\n",
    "kubectl apply -f deploy/role_binding.yaml  -n ${NAMESPACE}\n",
    "echo ....... Applying Operator .......\n",
    "kubectl apply -f deploy/operator.yaml -n ${NAMESPACE}\n",
    "echo ....... Creating the CRs .......\n",
    "kubectl apply -f deploy/crds/mariadb.persistentsys_v1alpha1_mariadb_cr.yaml -n ${NAMESPACE}\n",
    "kubectl apply -f deploy/crds/mariadb.persistentsys_v1alpha1_backup_cr.yaml -n ${NAMESPACE}\n",
    "kubectl apply -f deploy/crds/mariadb.persistentsys_v1alpha1_monitor_cr.yaml -n ${NAMESPACE}\n",
    "\n",
    "cat <<%EOF% | kubectl apply -n ${NAMESPACE} -f - \n",
    "apiVersion: v1\n",
    "kind: PersistentVolumeClaim\n",
    "metadata:\n",
    "  name: mariadb-pv-claim\n",
    "spec:\n",
    "  storageClassName: local-storage\n",
    "  accessModes:\n",
    "    - ReadWriteOnce\n",
    "  resources:\n",
    "    requests:\n",
    "      storage: 1Gi\n",
    "%EOF%\n"
   ]
  },
  {
   "cell_type": "code",
   "execution_count": null,
   "metadata": {},
   "outputs": [],
   "source": [
    "! kubectl get all --namespace mariadb"
   ]
  },
  {
   "cell_type": "markdown",
   "metadata": {},
   "source": [
    "- - - \n",
    "\n",
    "Nach erfolgreicher Installation des MariaDB Operators können wir nun neue Datenbank erstellen.\n",
    "\n",
    "Dazu verwenden wir die neu erstellen [CustomResourceDefinition](https://kubernetes.io/docs/tasks/extend-kubernetes/custom-resources/custom-resource-definitions/)"
   ]
  },
  {
   "cell_type": "code",
   "execution_count": null,
   "metadata": {},
   "outputs": [],
   "source": [
    "%%bash\n",
    "cat <<%EOF% | kubectl apply -f -\n",
    "apiVersion: mariadb.persistentsys/v1alpha1\n",
    "kind: MariaDB\n",
    "metadata:\n",
    "  name: mariadb\n",
    "spec:\n",
    "  # Keep this parameter value unchanged.\n",
    "  size: 1\n",
    "  \n",
    "  # Root user password\n",
    "  rootpwd: password\n",
    "\n",
    "  # New Database name\n",
    "  database: test-db\n",
    "  # Database additional user details (base64 encoded)\n",
    "  username: db-user \n",
    "  password: db-user \n",
    "\n",
    "  # Image name with version\n",
    "  image: \"mariadb/server:10.3\"\n",
    "\n",
    "  # Database storage Path\n",
    "  dataStoragePath: \"/data/mariadb\" \n",
    "\n",
    "  # Database storage Size (Ex. 1Gi, 100Mi)\n",
    "  dataStorageSize: \"1Gi\"\n",
    "\n",
    "  # Port number exposed for Database service\n",
    "  port: 30685\n",
    "---\n",
    "apiVersion: v1\n",
    "kind: PersistentVolumeClaim\n",
    "metadata:\n",
    "  name: mariadb-pv-claim\n",
    "spec:\n",
    "  storageClassName: local-storage\n",
    "  accessModes:\n",
    "    - ReadWriteOnce\n",
    "  resources:\n",
    "    requests:\n",
    "      storage: 1Gi\n",
    "%EOF%"
   ]
  },
  {
   "cell_type": "code",
   "execution_count": null,
   "metadata": {},
   "outputs": [],
   "source": [
    "! kubectl get MariaDB --all-namespaces "
   ]
  },
  {
   "cell_type": "code",
   "execution_count": null,
   "metadata": {},
   "outputs": [],
   "source": []
  }
 ],
 "metadata": {
  "kernelspec": {
   "display_name": "Python 3",
   "language": "python",
   "name": "python3"
  },
  "language_info": {
   "codemirror_mode": {
    "name": "ipython",
    "version": 3
   },
   "file_extension": ".py",
   "mimetype": "text/x-python",
   "name": "python",
   "nbconvert_exporter": "python",
   "pygments_lexer": "ipython3",
   "version": "3.7.3"
  }
 },
 "nbformat": 4,
 "nbformat_minor": 2
}
