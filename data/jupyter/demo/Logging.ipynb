{
 "cells": [
  {
   "cell_type": "markdown",
   "metadata": {},
   "source": [
    "Logging\n",
    "=======\n",
    "\n",
    "![](https://d33wubrfki0l68.cloudfront.net/59b1aae2adcfe4f06270b99a2789012ed64bec1f/4d0ad/images/docs/user-guide/logging/logging-node-level.png)\n",
    "\n",
    "Quelle: https://kubernetes.io/docs/concepts/cluster-administration/logging/\n",
    "- - -\n",
    "\n",
    "Mithilfe von Anwendungs- und Systemprotokollen können Sie besser verstehen, was in Ihrem Cluster geschieht.\n",
    "\n",
    "Die Protokolle sind besonders nützlich zum Debuggen von Problemen und zum Überwachen der Clusteraktivität. \n",
    "\n",
    "Die einfachste und am weitesten verbreitete Protokollierungsmethode für containerisierte Anwendungen besteht darin, in die Standardausgabe (stdout) und die Standardfehlerströme (stderr) zu schreiben.\n",
    "\n",
    "Um dies zu Demonstrieren starten wir einen Container mit einer einfachen Endlosschleife, welche einen Zähler und das Datum ausgibt."
   ]
  },
  {
   "cell_type": "code",
   "execution_count": null,
   "metadata": {},
   "outputs": [],
   "source": [
    "! kubectl apply -f https://raw.githubusercontent.com/mc-b/duk/master/logging/counter-pod.yaml"
   ]
  },
  {
   "cell_type": "markdown",
   "metadata": {},
   "source": [
    "und geben sein Log aus:"
   ]
  },
  {
   "cell_type": "code",
   "execution_count": null,
   "metadata": {},
   "outputs": [],
   "source": [
    "! kubectl logs counter"
   ]
  },
  {
   "cell_type": "markdown",
   "metadata": {},
   "source": [
    "Nach dem beenden des Container bzw. Pods stehen auch die Logs nicht mehr zur Verfügung.\n",
    "\n",
    "Die zweite Anweisung sollte also entweder einen Fehler oder keine Ausgabe mehr bringen:"
   ]
  },
  {
   "cell_type": "code",
   "execution_count": null,
   "metadata": {},
   "outputs": [],
   "source": [
    "! kubectl delete -f https://raw.githubusercontent.com/mc-b/duk/master/logging/counter-pod.yaml\n",
    "! kubectl logs counter"
   ]
  },
  {
   "cell_type": "markdown",
   "metadata": {},
   "source": [
    "***\n",
    "Fluent Bit\n",
    "----------\n",
    "\n",
    "![](https://fluentbit.io/assets/img-flb/flb_002.png)\n",
    "\n",
    "Quelle: https://fluentbit.io/\n",
    "\n",
    "- - -\n",
    "\n",
    "Fluent Bit ist ein Open Source- und plattformübergreifender Protokollprozessor und -weiterleiter , mit dem Sie Daten / Protokolle aus verschiedenen Quellen sammeln, vereinheitlichen und an mehrere Ziele senden können.\n",
    "\n",
    "Fluent Bit soll Sicherstellen, dass wir die Logs auch nach Beendigung von Container/Pods zur Verfügung haben.\n",
    "\n",
    "Fluent Bit ist in der [duk-demo](https://github.com/mc-b/duk-demo) Umgebung bereits installiert. Siehe Projekt [duk](https://github.com/mc-b/duk/tree/master/logging).\n"
   ]
  },
  {
   "cell_type": "markdown",
   "metadata": {},
   "source": [
    "*** \n",
    "Logs\n",
    "----\n",
    "\n",
    "Zu Testzwecken ist Fluent Bit so konfiguriert, dass es die Logs sammelt und diese auf `stdout` des Fluent Bit Pods ausgibt.\n",
    "\n",
    "    output-stdout.conf: |\n",
    "      [OUTPUT]\n",
    "        Name            stdout\n",
    "        Match           *\n",
    "        Logstash_Format On\n",
    "        Replace_Dots    On\n",
    "        Retry_Limit     False\n",
    "\n",
    "So müssen wir nur noch das Log des Fluent Bit Pods anschauen um alle Logsausgaben anzusehen:"
   ]
  },
  {
   "cell_type": "code",
   "execution_count": null,
   "metadata": {},
   "outputs": [],
   "source": [
    "! kubectl logs --tail=20 -l k8s-app=fluent-bit-logging"
   ]
  },
  {
   "cell_type": "markdown",
   "metadata": {},
   "source": [
    "*** \n",
    "ElasticSearch und Kibana\n",
    "------------------------\n",
    "\n",
    "Um die Logs zu Speichern und zu Visualisieren, braucht es weitere Produkte:\n",
    "* ElasticSearch - eine verteilte RESTful-Suchmaschine und -Analytics Engine\n",
    "* Kibana - die visuelle Analyse der Elasticsearch-Daten in Echtzeit.\n",
    "\n",
    "Nur Kibana hat ein UI welcher wir zuerst freischalten müssen:"
   ]
  },
  {
   "cell_type": "code",
   "execution_count": null,
   "metadata": {},
   "outputs": [],
   "source": [
    "! kubectl get service quickstart-kb-http -o yaml | sed 's/ClusterIP/NodePort/g' | kubectl apply -f -"
   ]
  },
  {
   "cell_type": "code",
   "execution_count": null,
   "metadata": {},
   "outputs": [],
   "source": [
    "! echo \"Kibana User/PW: \" elastic/$(kubectl get secret quickstart-es-elastic-user -o=jsonpath='{.data.elastic}' | base64 --decode; echo)\n",
    "! echo \"Kibana UI     : \" $(kubectl config view -o=jsonpath='{ .clusters[0].cluster.server }' | sed -e \"s/6443/$(kubectl get service quickstart-kb-http -o=jsonpath='{ .spec.ports[0].nodePort }')/g\")"
   ]
  },
  {
   "cell_type": "code",
   "execution_count": null,
   "metadata": {},
   "outputs": [],
   "source": []
  }
 ],
 "metadata": {
  "kernelspec": {
   "display_name": "Python 3",
   "language": "python",
   "name": "python3"
  },
  "language_info": {
   "codemirror_mode": {
    "name": "ipython",
    "version": 3
   },
   "file_extension": ".py",
   "mimetype": "text/x-python",
   "name": "python",
   "nbconvert_exporter": "python",
   "pygments_lexer": "ipython3",
   "version": "3.7.3"
  }
 },
 "nbformat": 4,
 "nbformat_minor": 2
}
