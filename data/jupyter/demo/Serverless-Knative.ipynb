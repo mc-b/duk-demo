{
 "cells": [
  {
   "cell_type": "markdown",
   "metadata": {},
   "source": [
    "# Knative\n",
    "\n",
    "Knative (ausgesprochen kay-nay-tiv) erweitert Kubernetes um eine Reihe von Middleware-Komponenten, die für die Erstellung moderner, quellenzentrierter und container-basierter Anwendungen unerlässlich sind, die überall ausgeführt werden können: vor Ort, in der Cloud oder sogar in einem Rechenzentrum eines Drittanbieters.\n",
    "\n",
    "Jede der Komponenten im Rahmen des Knative-Projekts versucht, gemeinsame Muster zu identifizieren und die Best Practices zu kodifizieren, die von erfolgreichen, realen, auf Kubernetes basierenden Frameworks und Anwendungen gemeinsam genutzt werden. Knative Komponenten konzentrieren sich auf die Lösung alltäglicher, aber schwieriger Aufgaben wie:\n",
    "\n",
    "* Bereitstellen eines Containers\n",
    "* Routing und Verwaltung des Datenverkehrs mit blue / green Bereitstellung\n",
    "* Automatische Skalierung und Anpassung der Workloads nach Bedarf\n",
    "* Bindung laufender Dienste an mehrere Ökosysteme"
   ]
  },
  {
   "cell_type": "markdown",
   "metadata": {},
   "source": [
    "## Serving\n",
    "\n",
    "![](https://github.com/knative/serving/raw/master/docs/spec/images/object_model.png)\n",
    "\n",
    "Quelle: knative.dev\n",
    "- - -\n",
    "\n",
    "Knative Serving baut auf Kubernetes und Istio auf, um die Bereitstellung und Bereitstellung von Anwendungen und Funktionen ohne Server zu unterstützen. Das Serving ist einfach zu starten und lässt sich skalieren, um erweiterte Szenarien zu unterstützen.\n",
    "\n",
    "Das Knative Serving-Projekt bietet Middleware-Grundelemente, die Folgendes ermöglichen:\n",
    "\n",
    "* Schnelle Bereitstellung von Services ohne Server\n",
    "* Automatische Skalierung auf Null\n",
    "* Routing und Netzwerkeinstellungen für Istio-Komponenten\n",
    "* Momentaufnahmen von bereitgestelltem Code und bereitgestellten Konfigurationen"
   ]
  },
  {
   "cell_type": "code",
   "execution_count": null,
   "metadata": {},
   "outputs": [],
   "source": [
    "%%bash\n",
    "kubectl create namespace serving\n",
    "cat <<%EOF% | kubectl apply -f -\n",
    "apiVersion: serving.knative.dev/v1 # Current version of Knative\n",
    "kind: Service\n",
    "metadata:\n",
    "  name: helloworld-go # The name of the app\n",
    "  namespace: serving # The namespace the app will use\n",
    "spec:\n",
    "  template:\n",
    "    spec:\n",
    "      containers:\n",
    "        - image: gcr.io/knative-samples/helloworld-go # The URL to the image of the app\n",
    "          env:\n",
    "            - name: TARGET # The environment variable printed out by the sample app\n",
    "              value: \"Go Sample v1\"\n",
    "%EOF%"
   ]
  },
  {
   "cell_type": "code",
   "execution_count": null,
   "metadata": {},
   "outputs": [],
   "source": [
    "! kubectl get all --namespace serving"
   ]
  },
  {
   "cell_type": "code",
   "execution_count": null,
   "metadata": {},
   "outputs": [],
   "source": [
    "! curl -H \"Host: helloworld-go.default.example.com\" istio-ingressgateway.istio-system"
   ]
  },
  {
   "cell_type": "markdown",
   "metadata": {},
   "source": [
    "ca. 2 Minuten warten und dann schauen wie viele Pods von helloworld-go noch laufen. Es sollten 0 sein. "
   ]
  },
  {
   "cell_type": "code",
   "execution_count": null,
   "metadata": {},
   "outputs": [],
   "source": [
    "! kubectl get all --namespace serving"
   ]
  },
  {
   "cell_type": "code",
   "execution_count": null,
   "metadata": {},
   "outputs": [],
   "source": []
  }
 ],
 "metadata": {
  "kernelspec": {
   "display_name": "Python 3",
   "language": "python",
   "name": "python3"
  },
  "language_info": {
   "codemirror_mode": {
    "name": "ipython",
    "version": 3
   },
   "file_extension": ".py",
   "mimetype": "text/x-python",
   "name": "python",
   "nbconvert_exporter": "python",
   "pygments_lexer": "ipython3",
   "version": "3.7.3"
  }
 },
 "nbformat": 4,
 "nbformat_minor": 2
}
