{
 "cells": [
  {
   "cell_type": "markdown",
   "metadata": {},
   "source": [
    "Ein einfaches Dashboard-Beispiel mit einem Dienstkonto (Service Account)\n",
    "-------------------------------------------------------\n",
    "\n",
    "![](https://d33wubrfki0l68.cloudfront.net/673dbafd771491a080c02c6de3fdd41b09623c90/50100/images/docs/admin/access-control-overview.svg)\n",
    "\n",
    "Quelle: [https://kubernetes.io/docs/reference/access-authn-authz/controlling-access/](https://kubernetes.io/docs/reference/access-authn-authz/controlling-access/)\n",
    "\n",
    "- - -\n",
    "\n",
    "In dieser Übung legen wir ein Dienstkonto (Service Account) an.\n",
    "\n",
    "Dazu erstellen wir eine Role, mit den Zugriffsmethoden (verbs), den Service Account und die RoleBinding.\n",
    "\n",
    "Für weitere Informationen siehe Projekt [duk](https://github.com/mc-b/duk/tree/master/rbac).\n"
   ]
  },
  {
   "cell_type": "code",
   "execution_count": null,
   "metadata": {},
   "outputs": [],
   "source": [
    "%%bash\n",
    "cat <<%EOF% | kubectl apply -f -\n",
    "kind: Role\n",
    "apiVersion: rbac.authorization.k8s.io/v1beta1\n",
    "metadata:\n",
    "  namespace: default\n",
    "  name: dashboard-reader-role\n",
    "rules:\n",
    "- apiGroups: [\"\"]\n",
    "  resources: [\"pods\"]\n",
    "  verbs: [\"get\", \"watch\", \"list\"]\n",
    "---  \n",
    "apiVersion: v1\n",
    "kind: ServiceAccount\n",
    "metadata:\n",
    "  name: dashboard-pod\n",
    "---\n",
    "kind: RoleBinding\n",
    "apiVersion: rbac.authorization.k8s.io/v1\n",
    "metadata:\n",
    "  name: dashboard-reader-rolebinding\n",
    "  namespace: default\n",
    "roleRef:\n",
    "  apiGroup: rbac.authorization.k8s.io  \n",
    "  kind: Role\n",
    "  name: dashboard-reader-role\n",
    "subjects:\n",
    "- kind: ServiceAccount\n",
    "  name: dashboard-pod\n",
    "  namespace: default  \n",
    "%EOF%"
   ]
  },
  {
   "cell_type": "markdown",
   "metadata": {},
   "source": [
    "- - -\n",
    "Für den Zugriff auf das Dashboard brauchen wir den Token des Service Accounts.\n"
   ]
  },
  {
   "cell_type": "code",
   "execution_count": null,
   "metadata": {},
   "outputs": [],
   "source": [
    "! kubectl describe secret $(kubectl get secret | grep dashboard-pod-token | awk '{print $1}')"
   ]
  },
  {
   "cell_type": "markdown",
   "metadata": {},
   "source": [
    "Diesen Token können wir verwenden um uns in Dashboard einzuloggen.\n",
    "\n",
    "http://localhost:8001/api/v1/namespaces/kubernetes-dashboard/services/https:kubernetes-dashboard:/proxy"
   ]
  },
  {
   "cell_type": "markdown",
   "metadata": {},
   "source": [
    "- - -\n",
    "Aufräumen"
   ]
  },
  {
   "cell_type": "code",
   "execution_count": null,
   "metadata": {},
   "outputs": [],
   "source": [
    "! kubectl delete Role/dashboard-reader-role\n",
    "! kubectl delete RoleBinding/dashboard-reader-rolebinding\n",
    "! kubectl delete ServiceAccount/dashboard-pod"
   ]
  },
  {
   "cell_type": "code",
   "execution_count": null,
   "metadata": {},
   "outputs": [],
   "source": []
  }
 ],
 "metadata": {
  "kernelspec": {
   "display_name": "Python 3",
   "language": "python",
   "name": "python3"
  },
  "language_info": {
   "codemirror_mode": {
    "name": "ipython",
    "version": 3
   },
   "file_extension": ".py",
   "mimetype": "text/x-python",
   "name": "python",
   "nbconvert_exporter": "python",
   "pygments_lexer": "ipython3",
   "version": "3.7.3"
  }
 },
 "nbformat": 4,
 "nbformat_minor": 2
}
