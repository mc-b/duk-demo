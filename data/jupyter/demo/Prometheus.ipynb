{
 "cells": [
  {
   "attachments": {},
   "cell_type": "markdown",
   "metadata": {},
   "source": [
    "Prometheus\n",
    "----------\n",
    "\n",
    "![](https://prometheus.io/assets/architecture.png)\n",
    "\n",
    "Quelle: [Prometheus](https://prometheus.io) \n",
    "\n",
    "- - -\n",
    "\n",
    "[Prometheus](https://prometheus.io) ist ein Open-Source-Toolkit zur Systemüberwachung und -Alamierung, das ursprünglich bei SoundCloud entwickelt wurde.\n",
    "\n",
    "Prometheus trat der [Cloud Native Computing Foundation](https://www.cncf.io/) im Jahr 2016 als zweites gehostetes Projekt nach Kubernetes bei.\n",
    "\n",
    "Zusammen mit zwei weiteren Produkten ist der Monitoring Open Source Stack wie folgt:\n",
    "\n",
    "* **Prometheus** ist ein Zeitreihendatenbank- (time series database) und Überwachungstool, mit dem Metrik Endpunkte abgefragt und die von diesen Endpunkten bereitgestellten Daten abgeholt und verarbeitet werden. Daten können mit PromQL abgefragt werden.\n",
    "* **Grafana** ist ein Datenvisualisierungs- und Analysetool, mit dem Sie Dashboards und Diagramme für Ihre Metrikdaten erstellen können.\n",
    "* **Alertmanager**, der normalerweise zusammen mit Prometheus bereitgestellt wird, bildet die Warnschicht des Stapels. Er verarbeitet von Prometheus generierte Warnungen und dedupliziert (eliminieren von redundanten Daten), gruppiert und leitet sie z.B. via E-Mail weiter.\n"
   ]
  },
  {
   "cell_type": "markdown",
   "metadata": {},
   "source": [
    "***\n",
    "### Installation\n",
    "\n",
    "Prometheus ist in der [duk-demo](https://github.com/mc-b/duk-demo) Umgebung bereits installiert. Siehe Projekt [duk](https://github.com/mc-b/duk/tree/master/prometheus).\n",
    "\n",
    "Deshalb fahren wir mit dem User Interface weiter. Die Ports der User Interfaces\n",
    "\n",
    "* Grafana (Service: prometheus-operator-grafana) \n",
    "* Prometheus (Service: prometheus-operator-prometheus)\n",
    "* Alertmanager (Service: prometheus-operator-alertmanager)\n",
    "\n",
    "sind nur innerhalb des Cluster zugänglich. Deshalb müssen wir diese zuerst freischalten bzw. gegen Aussen öffnen:"
   ]
  },
  {
   "cell_type": "code",
   "execution_count": null,
   "metadata": {},
   "outputs": [],
   "source": [
    "! kubectl -n monitoring get service -l app.kubernetes.io/name=grafana -o yaml | sed 's/ClusterIP/NodePort/g' | kubectl apply -f -\n",
    "! kubectl -n monitoring get service -l app=prometheus-operator-prometheus -o yaml | sed 's/ClusterIP/NodePort/g' | kubectl apply -f -\n",
    "! kubectl -n monitoring get service -l app=prometheus-operator-alertmanager -o yaml | sed 's/ClusterIP/NodePort/g' | kubectl apply -f -"
   ]
  },
  {
   "cell_type": "markdown",
   "metadata": {},
   "source": [
    "Sind Sie freigeschaltet, können wir Sie wie andere Services via Cluster-IP und Port erreichen:"
   ]
  },
  {
   "cell_type": "code",
   "execution_count": null,
   "metadata": {},
   "outputs": [],
   "source": [
    "! echo \"Grafana UI     : \" $(kubectl config view -o=jsonpath='{ .clusters[0].cluster.server }' | sed -e 's/https:/http:/' -e \"s/6443/$(kubectl -n monitoring get service -l app.kubernetes.io/name=grafana -o=jsonpath='{ .items[0].spec.ports[0].nodePort }')/g\")\n",
    "! echo \"Prometheus UI  : \" $(kubectl config view -o=jsonpath='{ .clusters[0].cluster.server }' | sed -e 's/https:/http:/' -e \"s/6443/$(kubectl -n monitoring get service -l app=prometheus-operator-prometheus -o=jsonpath='{ .items[0].spec.ports[0].nodePort }')/g\")\n",
    "! echo \"Alertmanager UI: \" $(kubectl config view -o=jsonpath='{ .clusters[0].cluster.server }' | sed -e 's/https:/http:/' -e \"s/6443/$(kubectl -n monitoring get service -l app=prometheus-operator-alertmanager -o=jsonpath='{ .items[0].spec.ports[0].nodePort }')/g\")"
   ]
  },
  {
   "attachments": {},
   "cell_type": "markdown",
   "metadata": {},
   "source": [
    "**Grafana UI** Einloggen mittels User/Password **admin/prom-operator**. Auf der linken Seite kann zwischen einer Reihe von vorbereitenden Dashboards ausgewählt werden, z.B. Nodes.\n",
    "\n",
    "In der **Prometheus** Oberfläche kann mittels der Abfragesprache [PromQL](https://prometheus.io/docs/prometheus/latest/querying/basics/) gezielt Ressourcen ausgewählt werden, z.B. durch Query von `etcd_object_counts`.\n",
    "\n",
    "Der **Alertmanager** dient zum Verarbeiten von Warnungen. Für ein Beispiel siehe [Notifikation Beispiel](https://prometheus.io/docs/alerting/notification_examples/)"
   ]
  },
  {
   "cell_type": "code",
   "execution_count": null,
   "metadata": {},
   "outputs": [],
   "source": []
  }
 ],
 "metadata": {
  "kernelspec": {
   "display_name": "Python 3",
   "language": "python",
   "name": "python3"
  },
  "language_info": {
   "codemirror_mode": {
    "name": "ipython",
    "version": 3
   },
   "file_extension": ".py",
   "mimetype": "text/x-python",
   "name": "python",
   "nbconvert_exporter": "python",
   "pygments_lexer": "ipython3",
   "version": "3.7.3"
  }
 },
 "nbformat": 4,
 "nbformat_minor": 2
}
