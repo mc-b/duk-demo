{
 "cells": [
  {
   "cell_type": "markdown",
   "metadata": {},
   "source": [
    "Prometheus\n",
    "----------\n",
    "\n",
    "![](https://prometheus.io/assets/architecture.png)\n",
    "\n",
    "Quelle: [Prometheus](https://prometheus.io) \n",
    "\n",
    "- - -\n",
    "\n",
    "[Prometheus](https://prometheus.io) ist ein Open-Source-Toolkit zur Systemüberwachung und -Alamierung, das ursprünglich bei SoundCloud entwickelt wurde.\n",
    "\n",
    "Prometheus trat der [Cloud Native Computing Foundation](https://www.cncf.io/) im Jahr 2016 als zweites gehostetes Projekt nach Kubernetes bei.\n",
    "\n",
    "Zusammen mit zwei weiteren Produkten ist der Monitoring Open Source Stack wie folgt:\n",
    "\n",
    "* **Prometheus** ist ein Zeitreihendatenbank- (time series database) und Überwachungstool, mit dem Metrik Endpunkte abgefragt und die von diesen Endpunkten bereitgestellten Daten abgeholt und verarbeitet werden. Daten können mit PromQL abgefragt werden.\n",
    "* **Grafana** ist ein Datenvisualisierungs- und Analysetool, mit dem Sie Dashboards und Diagramme für Ihre Metrikdaten erstellen können.\n",
    "* **Alertmanager**, der normalerweise zusammen mit Prometheus bereitgestellt wird, bildet die Warnschicht des Stapels. Er verarbeitet von Prometheus generierte Warnungen und dedupliziert (eliminieren von redundanten Daten), gruppiert und leitet sie z.B. via E-Mail weiter.\n"
   ]
  },
  {
   "cell_type": "markdown",
   "metadata": {},
   "source": [
    "***\n",
    "### Installation\n",
    "\n",
    "Prometheus ist am einfachsten mittels [helm](https://helm.io) installierbar.\n"
   ]
  },
  {
   "cell_type": "code",
   "execution_count": null,
   "metadata": {},
   "outputs": [],
   "source": [
    "%%bash\n",
    "kubectl create namespace monitoring\n",
    "helm repo add prometheus-community https://prometheus-community.github.io/helm-charts\n",
    "helm repo update\n",
    "helm install monitoring prometheus-community/kube-prometheus-stack -n monitoring"
   ]
  },
  {
   "cell_type": "markdown",
   "metadata": {},
   "source": [
    "Die Ports der User Interfaces\n",
    "\n",
    "* Grafana (Service: prometheus-operator-grafana) \n",
    "* Prometheus (Service: prometheus-operator-prometheus)\n",
    "* Alertmanager (Service: prometheus-operator-alertmanager)\n",
    "\n",
    "sind nur innerhalb des Cluster zugänglich. Deshalb müssen wir diese zuerst freischalten bzw. gegen Aussen öffnen:"
   ]
  },
  {
   "cell_type": "code",
   "execution_count": null,
   "metadata": {},
   "outputs": [],
   "source": [
    "! kubectl -n monitoring patch service monitoring-grafana                      -p '{\"spec\": {\"type\": \"LoadBalancer\"}}'\n",
    "! kubectl -n monitoring patch service monitoring-kube-prometheus-prometheus   -p '{\"spec\": {\"type\": \"LoadBalancer\"}}'\n",
    "! kubectl -n monitoring patch service monitoring-kube-prometheus-alertmanager -p '{\"spec\": {\"type\": \"LoadBalancer\"}}'"
   ]
  },
  {
   "cell_type": "markdown",
   "metadata": {},
   "source": [
    "Sind Sie freigeschaltet, können wir Sie wie andere Services via Cluster-IP und Port erreichen:"
   ]
  },
  {
   "cell_type": "code",
   "execution_count": null,
   "metadata": {},
   "outputs": [],
   "source": [
    "! echo \"Grafana UI     : \" http://$(cat ~/work/server-ip):$(kubectl -n monitoring get service/monitoring-grafana -o=jsonpath='{ .spec.ports[0].nodePort }')\n",
    "! echo \"Prometheus UI  : \" http://$(cat ~/work/server-ip):$(kubectl -n monitoring get service/monitoring-kube-prometheus-prometheus -o=jsonpath='{ .spec.ports[0].nodePort }')\n",
    "! echo \"Alertmanager UI: \" http://$(cat ~/work/server-ip):$(kubectl -n monitoring get service/monitoring-kube-prometheus-alertmanager -o=jsonpath='{ .spec.ports[0].nodePort }')"
   ]
  },
  {
   "cell_type": "markdown",
   "metadata": {},
   "source": [
    "**Grafana UI** Einloggen mittels User/Password **admin/prom-operator**. Auf der linken Seite kann zwischen einer Reihe von vorbereitenden Dashboards ausgewählt werden, z.B. Nodes.\n",
    "\n",
    "In der **Prometheus** Oberfläche kann mittels der Abfragesprache [PromQL](https://prometheus.io/docs/prometheus/latest/querying/basics/) gezielt Ressourcen ausgewählt werden, z.B. durch Query von `apiserver_storage_objects`.\n",
    "\n",
    "Der **Alertmanager** dient zum Verarbeiten von Warnungen. Für ein Beispiel siehe [Notifikation Beispiel](https://prometheus.io/docs/alerting/notification_examples/)"
   ]
  },
  {
   "cell_type": "markdown",
   "metadata": {},
   "source": [
    "- - -\n",
    "### Custom Ressourcen\n",
    "\n",
    "Der Prometheus [Operator](https://github.com/coreos/prometheus-operator/blob/master/README.md) stellt eine Reihe von [benutzerdefinierten Ressourcen (CRDs)](https://kubernetes.io/docs/tasks/access-kubernetes-api/extend-api-custom-resource-definitions/) für das Monitoring bereit.\n",
    "\n",
    "* **Prometheus**, für eine Prometheus Instanz.\n",
    "* **Alertmanager**, für eine Alertmanager Instanz\n",
    "* **ServiceMonitor**, für die Überwachung von Kubernetes-Diensten.\n",
    "* **PodMonitor**, für die Überwachung von Pods.\n"
   ]
  },
  {
   "cell_type": "code",
   "execution_count": 3,
   "metadata": {},
   "outputs": [
    {
     "name": "stdout",
     "output_type": "stream",
     "text": [
      "alertmanagerconfigs               amcfg        monitoring.coreos.com/v1alpha1         true         AlertmanagerConfig\n",
      "alertmanagers                     am           monitoring.coreos.com/v1               true         Alertmanager\n",
      "podmonitors                       pmon         monitoring.coreos.com/v1               true         PodMonitor\n",
      "probes                            prb          monitoring.coreos.com/v1               true         Probe\n",
      "prometheuses                      prom         monitoring.coreos.com/v1               true         Prometheus\n",
      "prometheusrules                   promrule     monitoring.coreos.com/v1               true         PrometheusRule\n",
      "servicemonitors                   smon         monitoring.coreos.com/v1               true         ServiceMonitor\n",
      "thanosrulers                      ruler        monitoring.coreos.com/v1               true         ThanosRuler\n",
      "---------------------------------\n",
      "KIND:     ServiceMonitor\n",
      "VERSION:  monitoring.coreos.com/v1\n",
      "\n",
      "DESCRIPTION:\n",
      "     ServiceMonitor defines monitoring for a set of services.\n",
      "\n",
      "FIELDS:\n",
      "   apiVersion\t<string>\n",
      "     APIVersion defines the versioned schema of this representation of an\n",
      "     object. Servers should convert recognized schemas to the latest internal\n",
      "     value, and may reject unrecognized values. More info:\n",
      "     https://git.k8s.io/community/contributors/devel/sig-architecture/api-conventions.md#resources\n",
      "\n",
      "   kind\t<string>\n",
      "     Kind is a string value representing the REST resource this object\n",
      "     represents. Servers may infer this from the endpoint the client submits\n",
      "     requests to. Cannot be updated. In CamelCase. More info:\n",
      "     https://git.k8s.io/community/contributors/devel/sig-architecture/api-conventions.md#types-kinds\n",
      "\n",
      "   metadata\t<Object>\n",
      "     Standard object's metadata. More info:\n",
      "     https://git.k8s.io/community/contributors/devel/sig-architecture/api-conventions.md#metadata\n",
      "\n",
      "   spec\t<Object> -required-\n",
      "     Specification of desired Service selection for target discovery by\n",
      "     Prometheus.\n",
      "\n"
     ]
    }
   ],
   "source": [
    "! kubectl api-resources | grep monitoring\n",
    "! echo \"---------------------------------\"\n",
    "! kubectl explain servicemonitors                   "
   ]
  },
  {
   "cell_type": "markdown",
   "metadata": {},
   "source": [
    "- - -\n",
    "### Eigene Services überwachen\n",
    "\n",
    "Damit eigene (Micro)Services überwacht werden können, müssen diese Metrics Informationen liefern.\n",
    "\n",
    "Dazu müssen die (Micro)Services Metrik Informationen liefern.\n",
    "\n",
    "Die am Anfang vorgestellen synchronen Microservices liefern diese.\n",
    "\n",
    "Dazu starten wir die Microservices frisch inkl. ServiceMonitor für Prometheus."
   ]
  },
  {
   "cell_type": "code",
   "execution_count": 9,
   "metadata": {},
   "outputs": [
    {
     "name": "stdout",
     "output_type": "stream",
     "text": [
      "service/apache unchanged\n",
      "deployment.apps/apache unchanged\n",
      "service/catalog unchanged\n",
      "deployment.apps/catalog unchanged\n",
      "service/customer unchanged\n",
      "deployment.apps/customer unchanged\n",
      "service/order unchanged\n",
      "deployment.apps/order unchanged\n",
      "service/postgres unchanged\n",
      "deployment.apps/postgres unchanged\n",
      "servicemonitor.monitoring.coreos.com/microservice unchanged\n",
      "http://10.6.37.30:31193\n"
     ]
    },
    {
     "name": "stderr",
     "output_type": "stream",
     "text": [
      "Error from server (AlreadyExists): namespaces \"ms-rest\" already exists\n"
     ]
    }
   ],
   "source": [
    "%%bash\n",
    "kubectl create namespace ms-rest\n",
    "kubectl apply -f https://raw.githubusercontent.com/mc-b/misegr/master/ewolff/ms-kubernetes/apache.yaml\n",
    "kubectl apply -f https://raw.githubusercontent.com/mc-b/misegr/master/ewolff/ms-kubernetes/catalog.yaml\n",
    "kubectl apply -f https://raw.githubusercontent.com/mc-b/misegr/master/ewolff/ms-kubernetes/customer.yaml\n",
    "kubectl apply -f https://raw.githubusercontent.com/mc-b/misegr/master/ewolff/ms-kubernetes/order.yaml\n",
    "kubectl apply -f https://raw.githubusercontent.com/mc-b/misegr/master/ewolff/ms-kubernetes/postgres.yaml\n",
    "\n",
    "cat <<%EOF% | kubectl apply --namespace ms-rest -f -\n",
    "apiVersion: monitoring.coreos.com/v1\n",
    "kind: ServiceMonitor\n",
    "metadata:\n",
    "  name: microservice\n",
    "  labels:\n",
    "    tier: microservice\n",
    "spec:\n",
    "  selector:\n",
    "    matchLabels:\n",
    "      tier: microservice\n",
    "  endpoints:\n",
    "  - port: web\n",
    "%EOF%\n",
    "\n",
    "echo \"http://$(cat ~/work/server-ip):$(kubectl get service apache --namespace ms-rest -o=jsonpath='{ .spec.ports[0].nodePort }')\""
   ]
  },
  {
   "cell_type": "markdown",
   "metadata": {},
   "source": [
    "Für die nächsten Befehle müssen alle Container gestartet sein:"
   ]
  },
  {
   "cell_type": "code",
   "execution_count": 10,
   "metadata": {},
   "outputs": [
    {
     "name": "stdout",
     "output_type": "stream",
     "text": [
      "NAMESPACE   NAME                            READY   STATUS    RESTARTS       AGE\r\n",
      "ms-rest     pod/order-f58c89c66-89rg4       1/1     Running   1 (112s ago)   2m29s\r\n",
      "ms-rest     pod/catalog-7c7bb46ff5-5zxsd    1/1     Running   2 (116s ago)   2m30s\r\n",
      "ms-rest     pod/customer-5d4cc45d9b-qxhq5   1/1     Running   2 (111s ago)   2m29s\r\n",
      "\r\n",
      "NAMESPACE   NAME               TYPE        CLUSTER-IP   EXTERNAL-IP   PORT(S)    AGE\r\n",
      "ms-rest     service/catalog    ClusterIP   None         <none>        8080/TCP   2m30s\r\n",
      "ms-rest     service/customer   ClusterIP   None         <none>        8080/TCP   2m30s\r\n",
      "ms-rest     service/order      ClusterIP   None         <none>        8080/TCP   2m29s\r\n",
      "\r\n",
      "NAMESPACE   NAME                       READY   UP-TO-DATE   AVAILABLE   AGE\r\n",
      "ms-rest     deployment.apps/order      1/1     1            1           2m29s\r\n",
      "ms-rest     deployment.apps/catalog    1/1     1            1           2m30s\r\n",
      "ms-rest     deployment.apps/customer   1/1     1            1           2m30s\r\n",
      "\r\n",
      "NAMESPACE   NAME                                  DESIRED   CURRENT   READY   AGE\r\n",
      "ms-rest     replicaset.apps/order-f58c89c66       1         1         1       2m29s\r\n",
      "ms-rest     replicaset.apps/catalog-7c7bb46ff5    1         1         1       2m30s\r\n",
      "ms-rest     replicaset.apps/customer-5d4cc45d9b   1         1         1       2m29s\r\n",
      "\r\n",
      "NAMESPACE   NAME                                                AGE\r\n",
      "ms-rest     servicemonitor.monitoring.coreos.com/microservice   2m10s\r\n"
     ]
    }
   ],
   "source": [
    "! kubectl get all,servicemonitors --all-namespaces -l tier=microservice"
   ]
  },
  {
   "cell_type": "markdown",
   "metadata": {},
   "source": [
    "Dann können wir mittels `curl` die Metriken abfragen, z.B. von Customer.\n",
    "\n",
    "Es werden u.a. folgende Informationen ausgegeben:\n",
    "* `counter.status.200.metrics` - Anzahl Aufrufe von /metrics\n",
    "* `counter.status.200.list.html`- Anzahl Zugriff auf die HTML Seiten der Applikation "
   ]
  },
  {
   "cell_type": "code",
   "execution_count": 12,
   "metadata": {},
   "outputs": [
    {
     "name": "stdout",
     "output_type": "stream",
     "text": [
      "  % Total    % Received % Xferd  Average Speed   Time    Time     Time  Current\r\n",
      "                                 Dload  Upload   Total   Spent    Left  Speed\r\n",
      "\r",
      "  0     0    0     0    0     0      0      0 --:--:-- --:--:-- --:--:--     0\r",
      "100  1002    0  1002    0     0   163k      0 --:--:-- --:--:-- --:--:--  163k\r\n",
      "  \"counter.status.200.metrics\" : 1,\r\n",
      "  \"counter.status.200.webjars.star-star\" : 3,\r\n",
      "  \"counter.status.200.list.html\" : 1\r\n"
     ]
    }
   ],
   "source": [
    "! curl http://customer.ms-rest:8080/metrics | grep counter"
   ]
  },
  {
   "cell_type": "markdown",
   "metadata": {},
   "source": [
    "- - -\n",
    "### Prometheus \n",
    "\n",
    "Die erstellten Microservices können wir nun mit Prometheus überwachen.\n",
    "\n",
    "Dazu brauchen wir die entsprechenden Rechte:   "
   ]
  },
  {
   "cell_type": "code",
   "execution_count": 13,
   "metadata": {},
   "outputs": [
    {
     "name": "stdout",
     "output_type": "stream",
     "text": [
      "serviceaccount/microservice created\n",
      "clusterrole.rbac.authorization.k8s.io/microservice created\n",
      "clusterrolebinding.rbac.authorization.k8s.io/microservice created\n"
     ]
    }
   ],
   "source": [
    "%%bash\n",
    "cat <<%EOF% | kubectl apply --namespace ms-rest -f -\n",
    "apiVersion: v1\n",
    "kind: ServiceAccount\n",
    "metadata:\n",
    "  name: microservice\n",
    "---\n",
    "apiVersion: rbac.authorization.k8s.io/v1\n",
    "kind: ClusterRole\n",
    "metadata:\n",
    "  name: microservice\n",
    "rules:\n",
    "- apiGroups: [\"\"]\n",
    "  resources:\n",
    "  - nodes\n",
    "  - services\n",
    "  - endpoints\n",
    "  - pods\n",
    "  verbs: [\"get\", \"list\", \"watch\"]\n",
    "- apiGroups: [\"\"]\n",
    "  resources:\n",
    "  - configmaps\n",
    "  verbs: [\"get\"]\n",
    "- nonResourceURLs: [\"/metrics\"]\n",
    "  verbs: [\"get\"]\n",
    "---\n",
    "apiVersion: rbac.authorization.k8s.io/v1\n",
    "kind: ClusterRoleBinding\n",
    "metadata:\n",
    "  name: microservice\n",
    "roleRef:\n",
    "  apiGroup: rbac.authorization.k8s.io\n",
    "  kind: ClusterRole\n",
    "  name: microservice\n",
    "subjects:\n",
    "- kind: ServiceAccount\n",
    "  name: microservice\n",
    "  namespace: ms-kubernetes\n",
    "%EOF%\n"
   ]
  },
  {
   "cell_type": "markdown",
   "metadata": {},
   "source": [
    "Und eine eigene Prometheus Instanz.\n",
    "\n",
    "Im User Interface können wir dann die überwachten Targets und deren Status anschauen.\n",
    "\n",
    "Dazu ist als Query `up` einzugeben oder via Pulldown -> Status -> Targets die überwachten Microservices anzuzeigen."
   ]
  },
  {
   "cell_type": "code",
   "execution_count": 14,
   "metadata": {},
   "outputs": [
    {
     "name": "stdout",
     "output_type": "stream",
     "text": [
      "service/prometheus created\n",
      "prometheus.monitoring.coreos.com/prometheus created\n",
      "http://10.6.37.30:32255\n"
     ]
    }
   ],
   "source": [
    "%%bash\n",
    "cat <<%EOF% | kubectl apply --namespace ms-rest -f -\n",
    "apiVersion: v1\n",
    "kind: Service\n",
    "metadata:\n",
    "  name: prometheus\n",
    "spec:\n",
    "  type: NodePort\n",
    "  ports:\n",
    "  - name: web\n",
    "    port: 9090\n",
    "    protocol: TCP\n",
    "    targetPort: web\n",
    "  selector:\n",
    "    prometheus: prometheus\n",
    "  type: LoadBalancer\n",
    "---\n",
    "apiVersion: monitoring.coreos.com/v1\n",
    "kind: Prometheus\n",
    "metadata:\n",
    "  name: prometheus\n",
    "spec:\n",
    "  serviceAccountName: microservice\n",
    "  serviceMonitorSelector:\n",
    "    matchLabels:\n",
    "      tier: microservice\n",
    "  resources:\n",
    "    requests:\n",
    "      memory: 400Mi\n",
    "  enableAdminAPI: true\n",
    "%EOF%\n",
    "\n",
    "echo \"http://$(cat ~/work/server-ip):$(kubectl get service --namespace ms-rest prometheus -o=jsonpath='{ .spec.ports[0].nodePort }')\""
   ]
  },
  {
   "cell_type": "markdown",
   "metadata": {},
   "source": [
    "- - -\n",
    "### Prometheus Beispiel\n",
    "\n",
    "Prometheus selber liefert ein eigenes Beispiel eines überwachten Services.\n",
    "\n",
    "Dieser ist in diesem [Blogeintrag](https://coreos.com/operators/prometheus/docs/latest/user-guides/getting-started.html) beschrieben.\n",
    "\n",
    "Wir starten das Prometheus Beispiel zu Vergleichszwecken:"
   ]
  },
  {
   "cell_type": "code",
   "execution_count": null,
   "metadata": {},
   "outputs": [],
   "source": [
    "%%bash\n",
    "cat <<%EOF% | kubectl apply --namespace ms-rest -f -\n",
    "apiVersion: apps/v1\n",
    "kind: Deployment\n",
    "metadata:\n",
    "  name: example-app\n",
    "  labels:\n",
    "    app: example-app\n",
    "    tier: microservice   \n",
    "spec:\n",
    "  replicas: 3\n",
    "  selector:\n",
    "    matchLabels:\n",
    "      app: example-app\n",
    "  template:\n",
    "    metadata:\n",
    "      labels:\n",
    "        app: example-app\n",
    "        tier: microservice        \n",
    "    spec:\n",
    "      containers:\n",
    "      - name: example-app\n",
    "        image: fabxc/instrumented_app\n",
    "        ports:\n",
    "        - name: web\n",
    "          containerPort: 8080\n",
    "---\n",
    "kind: Service\n",
    "apiVersion: v1\n",
    "metadata:\n",
    "  name: example-app\n",
    "  labels:\n",
    "    app: example-app\n",
    "    tier: microservice    \n",
    "spec:\n",
    "  selector:\n",
    "    app: example-app\n",
    "  ports:\n",
    "  - name: web\n",
    "    port: 8080\n",
    "%EOF%"
   ]
  },
  {
   "cell_type": "code",
   "execution_count": null,
   "metadata": {},
   "outputs": [],
   "source": [
    "! kubectl get all,servicemonitors -n ms-rest -l tier=microservice"
   ]
  },
  {
   "cell_type": "code",
   "execution_count": null,
   "metadata": {},
   "outputs": [],
   "source": [
    "! curl example-app.ms-rest:8080/metrics"
   ]
  },
  {
   "cell_type": "code",
   "execution_count": null,
   "metadata": {},
   "outputs": [],
   "source": []
  }
 ],
 "metadata": {
  "kernelspec": {
   "display_name": "Python 3 (ipykernel)",
   "language": "python",
   "name": "python3"
  },
  "language_info": {
   "codemirror_mode": {
    "name": "ipython",
    "version": 3
   },
   "file_extension": ".py",
   "mimetype": "text/x-python",
   "name": "python",
   "nbconvert_exporter": "python",
   "pygments_lexer": "ipython3",
   "version": "3.9.6"
  }
 },
 "nbformat": 4,
 "nbformat_minor": 2
}
