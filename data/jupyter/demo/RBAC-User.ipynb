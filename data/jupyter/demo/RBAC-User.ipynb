{
 "cells": [
  {
   "cell_type": "markdown",
   "metadata": {},
   "source": [
    "Ein einfaches RBAC-Beispiel mit einem Kubernetes-»User«\n",
    "-------------------------------------------------------\n",
    "\n",
    "![](https://d33wubrfki0l68.cloudfront.net/673dbafd771491a080c02c6de3fdd41b09623c90/50100/images/docs/admin/access-control-overview.svg)\n",
    "\n",
    "Quelle: [https://kubernetes.io/docs/reference/access-authn-authz/controlling-access/](https://kubernetes.io/docs/reference/access-authn-authz/controlling-access/)\n",
    "\n",
    "- - -\n",
    "\n",
    "In dieser Übung legen wir einen normalen User an. Dazu erstellen wir ein X509-Client-Zertifikat welches den User authentifiziert.\n",
    "\n",
    "Für weitere Informationen siehe Projekt [duk](https://github.com/mc-b/duk/tree/master/rbac).\n",
    "\n",
    "- - -\n",
    "\n",
    "Zuerst müssen wir den Private Key für das User-Zertifikat generieren und diesen signieren.\n",
    "\n",
    "Diese Aktionen erzeut die Dateien snoopy.pem` und snoopy.csr`."
   ]
  },
  {
   "cell_type": "code",
   "execution_count": null,
   "metadata": {},
   "outputs": [],
   "source": [
    "! rm -f snoopy* ~/.kube/config-snoopy\n",
    "! openssl genrsa -out snoopy.pem 2048\n",
    "! openssl req -new -key snoopy.pem -out snoopy.csr -subj \"/CN=snoopy\"\n",
    "! ls -l snoopy*"
   ]
  },
  {
   "cell_type": "markdown",
   "metadata": {},
   "source": [
    "- - -\n",
    "Der CSR (Certificate Signing Request) ist in Kubernetes als Ressource zu erstellen."
   ]
  },
  {
   "cell_type": "code",
   "execution_count": null,
   "metadata": {},
   "outputs": [],
   "source": [
    "%%bash\n",
    "cat <<%EOF% | kubectl apply -f -\n",
    "apiVersion: certificates.k8s.io/v1beta1\n",
    "kind: CertificateSigningRequest\n",
    "metadata:\n",
    "  name: user-request-snoopy\n",
    "spec:\n",
    "  groups:\n",
    "  - system:authenticated\n",
    "  request: $(cat snoopy.csr | base64 | tr -d '\\n')\n",
    "  usages:\n",
    "  - digital signature\n",
    "  - key encipherment\n",
    "  - client auth\n",
    "%EOF%"
   ]
  },
  {
   "cell_type": "markdown",
   "metadata": {},
   "source": [
    "Zu beglaubigen und zu signieren:"
   ]
  },
  {
   "cell_type": "code",
   "execution_count": null,
   "metadata": {},
   "outputs": [],
   "source": [
    "! kubectl certificate approve user-request-snoopy\n",
    "! kubectl get csr user-request-snoopy -o jsonpath='{.status.certificate}' | base64 -d > snoopy.crt  "
   ]
  },
  {
   "cell_type": "markdown",
   "metadata": {},
   "source": [
    "Der erste Teil ist erledigt, wir haben nun drei Dateien und ein beglaubigtes Zertifikat in Kubernetes:"
   ]
  },
  {
   "cell_type": "code",
   "execution_count": null,
   "metadata": {},
   "outputs": [],
   "source": [
    "! ls -l snoopy*\n",
    "! kubectl get csr user-request-snoopy"
   ]
  },
  {
   "cell_type": "markdown",
   "metadata": {},
   "source": [
    "***\n",
    "**Konfiguration**\n",
    "\n",
    "Damit wir den User Account verwenden können, benötigen wir eine entsprechende K8s-Konfiguration, diese steht nachher in `.kube/config-snoopy`:"
   ]
  },
  {
   "cell_type": "code",
   "execution_count": null,
   "metadata": {},
   "outputs": [],
   "source": [
    "! kubectl --kubeconfig ~/.kube/config-snoopy config set-cluster kubernetes --insecure-skip-tls-verify=true --server=$(kubectl config view -o=jsonpath='{ .clusters[0].cluster.server }')\n",
    "! kubectl --kubeconfig ~/.kube/config-snoopy config set-credentials snoopy --client-certificate=snoopy.crt --client-key=snoopy.pem --embed-certs=true"
   ]
  },
  {
   "cell_type": "markdown",
   "metadata": {},
   "source": [
    "Der erste Befehl legt die Datei `.kube/config-snoopy` mit den Cluster Informationen an, der zweite Befehl ergänzt die User Informationen.\n",
    "\n",
    "Anschliessend Erzeugen wir einen Context `snoopy` und wechseln auf diesen."
   ]
  },
  {
   "cell_type": "code",
   "execution_count": null,
   "metadata": {},
   "outputs": [],
   "source": [
    "! kubectl --kubeconfig ~/.kube/config-snoopy config set-context snoopy --cluster=kubernetes --user=snoopy \n",
    "! kubectl --kubeconfig ~/.kube/config-snoopy config use-context snoopy"
   ]
  },
  {
   "cell_type": "markdown",
   "metadata": {},
   "source": [
    "Da noch die entsprechende Rolle und das Binding fehlt sollte folgender Befehl eine Fehler ausgeben:"
   ]
  },
  {
   "cell_type": "code",
   "execution_count": null,
   "metadata": {},
   "outputs": [],
   "source": [
    "! kubectl --kubeconfig ~/.kube/config-snoopy get pods "
   ]
  },
  {
   "cell_type": "markdown",
   "metadata": {},
   "source": [
    "- - -\n",
    "### Role und RoleBinding erzeugen\n",
    "\n",
    "Damit der neue User Zugriff auf die Pods erhält, ist die nachfolgende YAML Datei zu erstellen"
   ]
  },
  {
   "cell_type": "code",
   "execution_count": null,
   "metadata": {},
   "outputs": [],
   "source": [
    "%%bash\n",
    "cat <<%EOF% | kubectl apply -f -\n",
    "kind: Role\n",
    "apiVersion: rbac.authorization.k8s.io/v1beta1\n",
    "metadata:\n",
    "  namespace: default\n",
    "  name: pod-reader-role\n",
    "rules:\n",
    "- apiGroups: [\"\"]\n",
    "  resources: [\"pods\"]\n",
    "  verbs: [\"get\", \"watch\", \"list\"]\n",
    "---\n",
    "kind: RoleBinding\n",
    "apiVersion: rbac.authorization.k8s.io/v1beta1\n",
    "metadata:\n",
    "  name: pod-reader-rolebinding\n",
    "  namespace: default\n",
    "subjects:\n",
    "- kind: User\n",
    "  name: snoopy\n",
    "  apiGroup: rbac.authorization.k8s.io\n",
    "roleRef:\n",
    "  kind: Role\n",
    "  name: pod-reader-role\n",
    "  apiGroup: rbac.authorization.k8s.io\n",
    "%EOF%\n"
   ]
  },
  {
   "cell_type": "markdown",
   "metadata": {},
   "source": [
    "Anschliessend muss die Abfrage von `Pods` in der Namespace `default` mit dem User `snoopy` funktionieren:"
   ]
  },
  {
   "cell_type": "code",
   "execution_count": null,
   "metadata": {},
   "outputs": [],
   "source": [
    "! kubectl --kubeconfig ~/.kube/config-snoopy get pods"
   ]
  },
  {
   "cell_type": "markdown",
   "metadata": {},
   "source": [
    "- - -\n",
    "Aufräumen"
   ]
  },
  {
   "cell_type": "code",
   "execution_count": null,
   "metadata": {},
   "outputs": [],
   "source": [
    "! rm -f snoopy* ~/.kube/config-snoopy\n",
    "! kubectl delete Role/pod-reader-role\n",
    "! kubectl delete RoleBinding/pod-reader-rolebinding"
   ]
  },
  {
   "cell_type": "code",
   "execution_count": null,
   "metadata": {},
   "outputs": [],
   "source": []
  }
 ],
 "metadata": {
  "kernelspec": {
   "display_name": "Python 3",
   "language": "python",
   "name": "python3"
  },
  "language_info": {
   "codemirror_mode": {
    "name": "ipython",
    "version": 3
   },
   "file_extension": ".py",
   "mimetype": "text/x-python",
   "name": "python",
   "nbconvert_exporter": "python",
   "pygments_lexer": "ipython3",
   "version": "3.7.3"
  }
 },
 "nbformat": 4,
 "nbformat_minor": 2
}
