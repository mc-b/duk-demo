{
 "cells": [
  {
   "cell_type": "markdown",
   "metadata": {},
   "source": [
    "DevOps Toolsumgebung\n",
    "====================\n"
   ]
  },
  {
   "cell_type": "markdown",
   "metadata": {},
   "source": [
    "Planen\n",
    "----------\n",
    "\n",
    "![](https://camo.githubusercontent.com/0b2807bac30d4fbd405988d283da12f35ae4973b/68747470733a2f2f6b616e626f6172642e6f72672f6173736574732f696d672f626f6172642e706e67)\n",
    "\n",
    "Kanboard ist eine Open-Source Kanban-Projektmanagement-Software.\n",
    "\n",
    "Es erlaubt Aufgaben in Projekten und Sprints (Swimlanes) zu managen. Die Columns können frei angepasst werden.\n",
    "\n",
    "Starten:"
   ]
  },
  {
   "cell_type": "code",
   "execution_count": null,
   "metadata": {},
   "outputs": [],
   "source": [
    "! kubectl create -f https://raw.githubusercontent.com/mc-b/duk/master/devops/kanboard.yaml"
   ]
  },
  {
   "cell_type": "markdown",
   "metadata": {},
   "source": [
    "Web Oberfläche mittels [Cluster-IP:32200](http://localhost:32200) anwählen. Username/Password ist `admin`."
   ]
  },
  {
   "cell_type": "markdown",
   "metadata": {},
   "source": [
    "***\n",
    "Source Code Management (optional)\n",
    "----------------------\n",
    "\n",
    "![](https://gogs.io/img/screenshots/4.png)\n",
    "\n",
    "Gogs ist ein einfacher Git Server mit Weboberfläche. Erinnert stark an github.\n",
    "\n",
    "Starten:"
   ]
  },
  {
   "cell_type": "code",
   "execution_count": null,
   "metadata": {},
   "outputs": [],
   "source": [
    "! kubectl create -f https://raw.githubusercontent.com/mc-b/duk/master/devops/gogs.yaml"
   ]
  },
  {
   "cell_type": "markdown",
   "metadata": {},
   "source": [
    "Web Oberfläche mittels [Cluster-IP:32300](http://localhost:32300) anwählen.\t\n",
    "\n",
    "Werte bei **Installationsschritte für den ersten Start** wie folgt anpassen:\n",
    "* Datenbanktyp: SQLite3\n",
    "* Pfad: /data/gogs.db\n",
    "* Anwendungs-URL: IP-Adresse und Port Cluster, z.B. http://localhost:32300/\n",
    "\n",
    "Einstellungen, wenn es sich um einen nicht frei zugänglichen Server handelt:\n",
    "* Server und sonstige Einstellungen \n",
    "    * Registrierung deaktivieren: true\n",
    "    * Captcha aktivieren: false \n",
    "* Administrator Einstellungen: Admin User inkl. Password einrichten.\n",
    "\n",
    "Ansonsten erhält der erste User wo sich registriert, Adminstrator Rechte."
   ]
  },
  {
   "cell_type": "markdown",
   "metadata": {},
   "source": [
    "*** \n",
    "\n",
    "Mittels `+` - `Neue Migration` bestehendes Repository von GitHub kopieren\n",
    "* Adresse kopieren: [https://github.com/mc-b/bpmn-tutorial.git](https://github.com/mc-b/bpmn-tutorial.git)\n",
    "* Repository-Name: bpmn-tutorial\n",
    "\n",
    "Vorgang wiederholen für:\n",
    "* [https://github.com/mc-b/microservice-kubernetes](https://github.com/mc-b/microservice-kubernetes)\n",
    "* [https://github.com/mc-b/microservice-kafka.git](https://github.com/mc-b/microservice-kafka.git)\n",
    "* [https://github.com/mc-b/SCS-ESI.git](https://github.com/mc-b/SCS-ESI.git)\n"
   ]
  },
  {
   "attachments": {},
   "cell_type": "markdown",
   "metadata": {},
   "source": [
    "***\n",
    "Build System Maven (optional)\n",
    "--------------------------------------------\n",
    "\n",
    "Maven ist ein Tool, mit dem Sie jetzt jedes Java-basierte Projekt erstellen und verwalten können. \n",
    "\n",
    "Um dies zu Demonstrieren, erstellen wir ein neues Projekt mittels des `archetypeArtifactId=maven-archetype-quickstart`, compilieren und starten es:"
   ]
  },
  {
   "cell_type": "code",
   "execution_count": null,
   "metadata": {},
   "outputs": [],
   "source": [
    "! docker run -it --rm -v /src:/src -w /src/ maven:3-alpine mvn archetype:generate -DgroupId=com.mycompany.app -DartifactId=my-app -DarchetypeArtifactId=maven-archetype-quickstart -DarchetypeVersion=1.4 -DinteractiveMode=false"
   ]
  },
  {
   "cell_type": "code",
   "execution_count": null,
   "metadata": {},
   "outputs": [],
   "source": [
    "! docker run -it --rm -v /src:/src -w /src/my-app maven:3-alpine mvn clean package            "
   ]
  },
  {
   "cell_type": "code",
   "execution_count": null,
   "metadata": {},
   "outputs": [],
   "source": [
    "! docker run -it --rm -v /src:/src -w /src/my-app maven:3-alpine java -cp target/my-app-1.0-SNAPSHOT.jar com.mycompany.app.App"
   ]
  },
  {
   "cell_type": "markdown",
   "metadata": {},
   "source": [
    "Den erstellten Sourcecode und die Artefakte kopieren wir ins aktuelle Verzeichnis "
   ]
  },
  {
   "cell_type": "code",
   "execution_count": null,
   "metadata": {},
   "outputs": [],
   "source": [
    "! kubectl  exec deployment/dind tar cf - /src/my-app | tar xvf -\n",
    "! find src/my-app"
   ]
  },
  {
   "cell_type": "markdown",
   "metadata": {},
   "source": [
    "Um das so erstellte Projekt besser zu verstehen, schauen wir das Buildfile `pom.xml` und das Main-Programm `App.java` an:"
   ]
  },
  {
   "cell_type": "code",
   "execution_count": null,
   "metadata": {
    "scrolled": true
   },
   "outputs": [],
   "source": [
    "! cat src/my-app/pom.xml\n",
    "! echo \"-------------------\"\n",
    "! cat src/my-app/src/main/java/com/mycompany/app/App.java"
   ]
  },
  {
   "cell_type": "markdown",
   "metadata": {},
   "source": [
    "Der Einfachheit überspringen wir die weiteren Schritte wie:\n",
    "* Abstellen des Sourcecodes im Source Code Management (git)\n",
    "* Abstellen des Artefaktes im [Zentralen Maven Repository](https://mvnrepository.com/)\n",
    "\n",
    "und gehen direkt zum Erstellen eines Container Images\n",
    "\n",
    "Dazu Erstellen wir zuerst ein Dockerfile. \n",
    "\n",
    "Das Dockerfile\n",
    "* ist abgeleitet vom Base Image `openjdk:8-jre`\n",
    "* wird ergänzt um das Compilierte Programm, aufbereitet in der JAR-Datei `target/my-app-1.0-SNAPSHOT.jar` \n",
    "* um dieses dann im Container starten zu können"
   ]
  },
  {
   "cell_type": "code",
   "execution_count": null,
   "metadata": {},
   "outputs": [],
   "source": [
    "%%bash\n",
    "cat <<%EOF% >src/my-app/Dockerfile\n",
    "FROM openjdk:8-jre\n",
    "COPY target/my-app-1.0-SNAPSHOT.jar /opt\n",
    "CMD [ \"java\", \"-cp\", \"/opt/my-app-1.0-SNAPSHOT.jar\", \"com.mycompany.app.App\" ]\n",
    "%EOF%\n",
    "cd src/my-app\n",
    "docker build -t my-app  ."
   ]
  },
  {
   "cell_type": "markdown",
   "metadata": {},
   "source": [
    "Zum Schluss schauen wir uns das erstellte Container Image an und starten dieses:"
   ]
  },
  {
   "cell_type": "code",
   "execution_count": null,
   "metadata": {},
   "outputs": [],
   "source": [
    "! docker image ls my-app\n",
    "! docker history my-app\n",
    "! docker run my-app"
   ]
  },
  {
   "cell_type": "markdown",
   "metadata": {},
   "source": [
    "***\n",
    "Artefakte und Container Repository/Registry\n",
    "-------------------------------------------\n",
    "\n",
    "Neben Artefakten wie Programme, Libraries etc. müssen heute auch Container Images gespeichert werden.\n",
    "\n",
    "Die nachfolgenden Befehle starten eine Docker Registry und stellen diese unter [http://localhost:32580](http://localhost:32580 ) zur Verfügung.\n"
   ]
  },
  {
   "cell_type": "code",
   "execution_count": null,
   "metadata": {},
   "outputs": [],
   "source": [
    "! kubectl apply -f https://raw.githubusercontent.com/mc-b/duk/master/registry/registry2.yaml\n",
    "! kubectl apply -f https://raw.githubusercontent.com/mc-b/duk/master/registry/registry2-frontend.yaml"
   ]
  },
  {
   "cell_type": "markdown",
   "metadata": {},
   "source": [
    "Sobald diese gestartet ist können wir unser Container Image dort abstellen\n",
    "\n",
    "    docker tag my-app docker-registry:5000/my-app\n",
    "    docker push docker-registry:5000/my-app\n",
    "    "
   ]
  },
  {
   "cell_type": "markdown",
   "metadata": {},
   "source": [
    "*** \n",
    "Continuous Integration\n",
    "----------------------\n",
    "\n",
    "![](https://jenkins.io/images/blueocean/blueocean-successful-pipeline.png)\n",
    "\n",
    "- - -\n",
    "\n",
    "Nachdem wir gesehen haben, wie viele Schritte manuell durchgeführt werden müssen, ist es an der Zeit diese zu automatisieren.\n",
    "\n",
    "Dazu verwenden wir \n",
    "\n",
    "*Continuous Integration (CI) (auch fortlaufende oder permanente Integration) ein Begriff aus der Software-Entwicklung, der den Prozess des fortlaufenden Zusammenfügens von Komponenten zu einer Anwendung beschreibt.*\n",
    "\n",
    "Dazu müssen wir zuerst für unsere `my-app` Applikation ein CI-Script schreiben und dieses im Source Code Management (git) abstellen."
   ]
  },
  {
   "cell_type": "code",
   "execution_count": null,
   "metadata": {},
   "outputs": [],
   "source": [
    "%%bash\n",
    "cat <<%EOF% >src/my-app/Jenkinsfile\n",
    "pipeline {\n",
    "    agent {\n",
    "        docker {\n",
    "            image 'maven:3-alpine'\n",
    "            args '-v /root/.m2:/root/.m2'\n",
    "        }\n",
    "    }\n",
    "    stages {\n",
    "        stage('Build') {\n",
    "            steps {\n",
    "                sh 'mvn -B -DskipTests clean package'\n",
    "                archiveArtifacts 'target/*.jar'\n",
    "                stash includes: 'target/*.jar', name: 'jar'\n",
    "            }\n",
    "        ...\n",
    "        stage('Build Images') {\n",
    "            agent none\n",
    "            steps {\n",
    "                unstash 'jar'\n",
    "                sh 'docker build -t my-app .'\n",
    "            }\n",
    "        }\n",
    "    }\n",
    "}\n",
    "%EOF%"
   ]
  },
  {
   "cell_type": "markdown",
   "metadata": {},
   "source": [
    "Anschliessend starten wir das CI System, hier Jenkins."
   ]
  },
  {
   "cell_type": "markdown",
   "metadata": {},
   "source": [
    "! kubectl create -f https://raw.githubusercontent.com/mc-b/duk/master/devops/jenkins.yaml"
   ]
  },
  {
   "cell_type": "markdown",
   "metadata": {},
   "source": [
    "Die Oberfläche wird fix auf Port 32100 zugewiesen und via [Cluster-IP:32100](http://localhost:32100) erreichbar.\n",
    "\n",
    "Initialer Username und Password ist `admin`\n",
    "\n",
    "Oberfläche Blue Ocean anwählen und neue Pipeline mittels `git` und\n",
    "Repository-URL, z.B. von `gogs` [http://localhost:32300/root/microservice-kubernetes.git](http://localhost:32300/root/microservice-kubernetes.git) anlegen. "
   ]
  },
  {
   "cell_type": "code",
   "execution_count": null,
   "metadata": {},
   "outputs": [],
   "source": []
  }
 ],
 "metadata": {
  "kernelspec": {
   "display_name": "Python 3",
   "language": "python",
   "name": "python3"
  },
  "language_info": {
   "codemirror_mode": {
    "name": "ipython",
    "version": 3
   },
   "file_extension": ".py",
   "mimetype": "text/x-python",
   "name": "python",
   "nbconvert_exporter": "python",
   "pygments_lexer": "ipython3",
   "version": "3.7.3"
  }
 },
 "nbformat": 4,
 "nbformat_minor": 2
}
