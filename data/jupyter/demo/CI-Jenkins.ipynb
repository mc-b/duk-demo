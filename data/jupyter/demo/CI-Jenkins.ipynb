{
 "cells": [
  {
   "cell_type": "markdown",
   "metadata": {},
   "source": [
    "Continuous Integration mit Jenkins \n",
    "===\n",
    "\n",
    "[![Jenkins Blue Ocean](https://img.youtube.com/vi/k_fVlU1FwP4/0.jpg)](https://youtu.be/k_fVlU1FwP4)\n",
    "\n",
    "- - -\n",
    "\n",
    "Jenkins ist ein erweiterbares, webbasiertes Software-System zur kontinuierlichen Integration von Komponenten zu einem Anwendungsprogramm. \n",
    "\n",
    "Unterstützt werden verschiedene Build-Tools wie Apache Ant, Maven oder Gradle, Versionsverwaltungssysteme wie CVS, Subversion oder Git, automatische Testverfahren (\"test tools\") wie JUnit oder Emma. \n",
    "\n",
    "Durch verschiedene Zusatzmodule (\"Plugins\") können auch andere Compiler gesteuert werden, sodass neben Java- auch PHP-, Ruby- oder .NET-basierte Projekte verwaltet werden können.\n",
    "\n",
    "[Jenkins Blue Ocean](https://www.jenkins.io/projects/blueocean/) erweitert [Jenkins](https://www.jenkins.io/) um eine zeitgemässe Oberfläche.\n",
    "\n",
    "- - -\n",
    "\n",
    "In der nachfolgenden Übungen wollen wir eine CI-Pipeline mittels [Jenkins Blue Ocean](https://www.jenkins.io/projects/blueocean/) aufsetzen.\n",
    "\n",
    "Die CI Schritte stehen dabei in einer Datei mit dem Namen [Jenkinsfile](https://www.jenkins.io/doc/book/pipeline/jenkinsfile/) die in in einem Git Repository abgelegt ist.\n",
    "\n",
    "Die Arbeitsschritte sind wie folgt:\n",
    "* Starten von Jenkins\n",
    "* Anmelden am User Interface mittels User/Password: `admin`\n",
    "* Mittels Menu rechts, auf [Blue Ocean](https://www.jenkins.io/projects/blueocean/) Oberfläche wechseln\n",
    "* Neue Pipeline mittels `Git` und einen der nachfolgenden Repositories anlegen.\n",
    "\n",
    "Es stehen u.a. folgende Git Repositories zur Verfügung:\n",
    "* [https://github.com/mc-b/SCS-ESI](https://github.com/mc-b/SCS-ESI) - Microservices ESI Beispiel\n",
    "* [https://github.com/mc-b/simple-java-maven-app](https://github.com/mc-b/simple-java-maven-app) - einfache Java Applikation\n",
    "* [https://github.com/mc-b/bpmn-tutorial](https://github.com/mc-b/bpmn-tutorial) - Abhandlung von Branches und Namenskonzept Container Images Tags.\n"
   ]
  },
  {
   "cell_type": "code",
   "execution_count": null,
   "metadata": {},
   "outputs": [],
   "source": [
    "! kubectl apply -f https://raw.githubusercontent.com/mc-b/duk/master/devops/jenkins.yaml"
   ]
  },
  {
   "cell_type": "code",
   "execution_count": null,
   "metadata": {},
   "outputs": [],
   "source": [
    "! kubectl config view -o=jsonpath='{ .clusters[0].cluster.server }' | sed -e 's/https:/http:/' -e \"s/6443/$(kubectl get service jenkins -o=jsonpath='{ .spec.ports[0].nodePort }')/\""
   ]
  },
  {
   "cell_type": "code",
   "execution_count": null,
   "metadata": {},
   "outputs": [],
   "source": []
  }
 ],
 "metadata": {
  "kernelspec": {
   "display_name": "Python 3",
   "language": "python",
   "name": "python3"
  },
  "language_info": {
   "codemirror_mode": {
    "name": "ipython",
    "version": 3
   },
   "file_extension": ".py",
   "mimetype": "text/x-python",
   "name": "python",
   "nbconvert_exporter": "python",
   "pygments_lexer": "ipython3",
   "version": "3.7.3"
  }
 },
 "nbformat": 4,
 "nbformat_minor": 2
}
