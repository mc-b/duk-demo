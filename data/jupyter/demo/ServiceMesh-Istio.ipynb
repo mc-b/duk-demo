{
 "cells": [
  {
   "cell_type": "markdown",
   "metadata": {},
   "source": [
    "Service Mesh - Istio\n",
    "--------------------\n",
    "\n",
    "![](https://istio.io/docs/concepts/what-is-istio/arch.svg)\n",
    "\n",
    "Quelle: istio.io\n",
    "\n",
    "- - -\n",
    "\n",
    "Cloud-Plattformen bieten den Unternehmen, die sie verwenden, zahlreiche Vorteile.\n",
    "\n",
    "Dazu müssen Entwickler das Architekturmuster Microservices verwenden, was dazu führt das schnell Unterschiedliche Versionen von Microservices parallel betrieben werden müssen.\n",
    "\n",
    "Mit den vielfältigen Funktionen von [Istio](http://istio.io) kann man eine verteilte Microservice-Architektur erfolgreich und effizient ausführen und auf einheitliche Weise Microservices absichern, verbinden und überwachen.\n",
    "\n",
    "Es ist ein vollständiger Open-Source-Service-Mesh, das auf vorhandenen verteilten Anwendungen aufbaut."
   ]
  },
  {
   "cell_type": "markdown",
   "metadata": {},
   "source": [
    "***\n",
    "### Was ist ein Service-Mesh?\n",
    "\n",
    "Der Begriff Service-Mesh beschreibt das Netzwerk von Microservices und die Wechselwirkungen zwischen ihnen. \n",
    "\n",
    "Je grösser und komplexer ein Service-Mesh wird, desto schwieriger ist es, es zu verstehen und zu verwalten. \n",
    "\n",
    "Zu den Anforderungen zählen Erkennung, Lastenausgleich, Fehlerbehebung, Metriken und Überwachung. \n",
    "\n",
    "Ein Service-Mesh hat häufig komplexere betriebliche Anforderungen, wie A/B-Tests (Bewertung zweier Varianten), Canary-Rollouts, Beschränkungen, Zugangskontrolle und End-to-End-Authentifizierung.\n",
    "\n",
    "Weitere Informationen: [Istio Homepage](https://istio.io/docs/concepts/what-is-istio/)"
   ]
  },
  {
   "cell_type": "markdown",
   "metadata": {},
   "source": [
    "***\n",
    "### Installation\n",
    "\n",
    "Istio ist in der [duk-demo](https://github.com/mc-b/duk-demo) Umgebung bereits installiert. Ansonsten siehe Projekt [duk](https://github.com/mc-b/duk/tree/master/istio)."
   ]
  },
  {
   "cell_type": "markdown",
   "metadata": {},
   "source": [
    "***\n",
    "### Bookinfo Beispiel\n",
    "\n",
    "Die Beispielanwendung zeigt Informationen zu einem Buch an, ähnlich einem einzelnen Katalogeintrag eines Online-Buchladens. Auf der Seite werden eine Beschreibung des Buches, Buchdetails (ISBN, Seitenzahl usw.) und einige Buchbesprechungen angezeigt.\n",
    "\n",
    "Für Details siehe [Bookinfo Application](https://istio.io/docs/examples/bookinfo/) und den [Sourcecode auf Github](https://github.com/istio/istio/tree/master/samples/bookinfo). \n",
    "\n",
    "Die Beispielanwendung ist Bestandteil der Istio Sourcen. Deshalb müssen wir diese zuerst downloaden, dann erstellen wir einen eigenen Namespace wo istio aktiviert ist und darin die Bookinfo Beispielanwendung.\n"
   ]
  },
  {
   "cell_type": "code",
   "execution_count": 1,
   "metadata": {},
   "outputs": [
    {
     "name": "stdout",
     "output_type": "stream",
     "text": [
      "Downloading istio-1.3.3 from https://github.com/istio/istio/releases/download/1.3.3/istio-1.3.3-linux.tar.gz ...  % Total    % Received % Xferd  Average Speed   Time    Time     Time  Current\n",
      "                                 Dload  Upload   Total   Spent    Left  Speed\n",
      "100   614    0   614    0     0   1987      0 --:--:-- --:--:-- --:--:--  1987\n",
      "100 36.3M  100 36.3M    0     0  2666k      0  0:00:13  0:00:13 --:--:-- 2687k\n",
      "Istio 1.3.3 Download Complete!\n",
      "\n",
      "Istio has been successfully downloaded into the istio-1.3.3 folder on your system.\n",
      "\n",
      "Next Steps:\n",
      "See https://istio.io/docs/setup/kubernetes/install/ to add Istio to your Kubernetes cluster.\n",
      "\n",
      "To configure the istioctl client tool for your workstation,\n",
      "add the /home/jovyan/work/demo/istio-1.3.3/bin directory to your environment path variable with:\n",
      "\t export PATH=\"$PATH:/home/jovyan/work/demo/istio-1.3.3/bin\"\n",
      "\n",
      "Begin the Istio pre-installation verification check by running:\n",
      "\t istioctl verify-install \n",
      "\n",
      "Need more information? Visit https://istio.io/docs/setup/kubernetes/install/ \n",
      "total 36\n",
      "drwxrwxrwx 1 jovyan 1000 12288 Oct 11 00:56 networking\n",
      "drwxrwxrwx 1 jovyan 1000     0 Oct 11 00:56 platform\n",
      "drwxrwxrwx 1 jovyan 1000  8192 Oct 11 00:56 policy\n",
      "-rwxrwxrwx 1 jovyan 1000  1108 Oct 11 00:56 README.md\n",
      "drwxrwxrwx 1 jovyan 1000     0 Oct 11 00:56 src\n",
      "-rwxrwxrwx 1 jovyan 1000  6329 Oct 11 00:56 swagger.yaml\n",
      "drwxrwxrwx 1 jovyan 1000  4096 Oct 11 00:56 telemetry\n"
     ]
    }
   ],
   "source": [
    "! curl -s -L https://git.io/getLatestIstio | ISTIO_VERSION=1.3.3 sh -\n",
    "! ls -l istio-1.3.3/samples/bookinfo"
   ]
  },
  {
   "cell_type": "code",
   "execution_count": 2,
   "metadata": {},
   "outputs": [
    {
     "name": "stdout",
     "output_type": "stream",
     "text": [
      "namespace/bookinfo created\n",
      "namespace/bookinfo labeled\n",
      "service/details created\n",
      "serviceaccount/bookinfo-details created\n",
      "deployment.apps/details-v1 created\n",
      "service/ratings created\n",
      "serviceaccount/bookinfo-ratings created\n",
      "deployment.apps/ratings-v1 created\n",
      "service/reviews created\n",
      "serviceaccount/bookinfo-reviews created\n",
      "deployment.apps/reviews-v1 created\n",
      "deployment.apps/reviews-v2 created\n",
      "deployment.apps/reviews-v3 created\n",
      "service/productpage created\n",
      "serviceaccount/bookinfo-productpage created\n",
      "deployment.apps/productpage-v1 created\n",
      "gateway.networking.istio.io/bookinfo-gateway created\n",
      "virtualservice.networking.istio.io/bookinfo created\n",
      "destinationrule.networking.istio.io/productpage created\n",
      "destinationrule.networking.istio.io/reviews created\n",
      "destinationrule.networking.istio.io/ratings created\n",
      "destinationrule.networking.istio.io/details created\n"
     ]
    }
   ],
   "source": [
    "! kubectl create namespace bookinfo\n",
    "! kubectl label namespace bookinfo istio-injection=enabled\n",
    "! kubectl apply -f istio-1.3.3/samples/bookinfo/platform/kube/bookinfo.yaml -n bookinfo\n",
    "! kubectl apply -f istio-1.3.3/samples/bookinfo/networking/bookinfo-gateway.yaml -n bookinfo\n",
    "! kubectl apply -f istio-1.3.3/samples/bookinfo/networking/destination-rule-all.yaml -n bookinfo"
   ]
  },
  {
   "cell_type": "markdown",
   "metadata": {},
   "source": [
    "Neben Pods, Services etc. wurden auch weitere Ressourcen erstellt wie:\n",
    "* [Gateway](https://istio.io/docs/concepts/traffic-management/#gateways) - für den Zugriff von ausserhalb des Clusters\n",
    "* [Virtual Service](https://istio.io/docs/concepts/traffic-management/#virtual-services) - mit den URL Paths \n",
    "* [Routing Rule](https://istio.io/docs/concepts/traffic-management/#routing-rules) - mit den Regeln was wo weitergeleitet wird.\n"
   ]
  },
  {
   "cell_type": "code",
   "execution_count": 3,
   "metadata": {},
   "outputs": [
    {
     "name": "stdout",
     "output_type": "stream",
     "text": [
      "NAME                                  READY   STATUS    RESTARTS   AGE\r\n",
      "pod/details-v1-74f858558f-n6bng       2/2     Running   0          21s\r\n",
      "pod/productpage-v1-8554d58bff-t7827   2/2     Running   0          19s\r\n",
      "pod/ratings-v1-7855f5bcb9-59z4n       2/2     Running   0          21s\r\n",
      "pod/reviews-v1-59fd8b965b-gnbn6       2/2     Running   0          20s\r\n",
      "pod/reviews-v2-d6cfdb7d6-69pnz        2/2     Running   0          20s\r\n",
      "pod/reviews-v3-75699b5cfb-l5n8c       2/2     Running   0          20s\r\n",
      "\r\n",
      "NAME                  TYPE        CLUSTER-IP       EXTERNAL-IP   PORT(S)    AGE\r\n",
      "service/details       ClusterIP   10.101.81.241    <none>        9080/TCP   22s\r\n",
      "service/productpage   ClusterIP   10.109.217.115   <none>        9080/TCP   21s\r\n",
      "service/ratings       ClusterIP   10.102.23.33     <none>        9080/TCP   22s\r\n",
      "service/reviews       ClusterIP   10.107.178.86    <none>        9080/TCP   21s\r\n",
      "\r\n",
      "NAME                             READY   UP-TO-DATE   AVAILABLE   AGE\r\n",
      "deployment.apps/details-v1       1/1     1            1           22s\r\n",
      "deployment.apps/productpage-v1   1/1     1            1           20s\r\n",
      "deployment.apps/ratings-v1       1/1     1            1           22s\r\n",
      "deployment.apps/reviews-v1       1/1     1            1           21s\r\n",
      "deployment.apps/reviews-v2       1/1     1            1           21s\r\n",
      "deployment.apps/reviews-v3       1/1     1            1           21s\r\n",
      "\r\n",
      "NAME                                        DESIRED   CURRENT   READY   AGE\r\n",
      "replicaset.apps/details-v1-74f858558f       1         1         1       22s\r\n",
      "replicaset.apps/productpage-v1-8554d58bff   1         1         1       20s\r\n",
      "replicaset.apps/ratings-v1-7855f5bcb9       1         1         1       22s\r\n",
      "replicaset.apps/reviews-v1-59fd8b965b       1         1         1       21s\r\n",
      "replicaset.apps/reviews-v2-d6cfdb7d6        1         1         1       21s\r\n",
      "replicaset.apps/reviews-v3-75699b5cfb       1         1         1       21s\r\n",
      "\r\n",
      "NAME                                           AGE\r\n",
      "gateway.networking.istio.io/bookinfo-gateway   18s\r\n",
      "\r\n",
      "NAME                                          GATEWAYS             HOSTS   AGE\r\n",
      "virtualservice.networking.istio.io/bookinfo   [bookinfo-gateway]   [*]     18s\r\n",
      "\r\n",
      "NAME                                              HOST          AGE\r\n",
      "destinationrule.networking.istio.io/details       details       15s\r\n",
      "destinationrule.networking.istio.io/productpage   productpage   16s\r\n",
      "destinationrule.networking.istio.io/ratings       ratings       15s\r\n",
      "destinationrule.networking.istio.io/reviews       reviews       16s\r\n"
     ]
    }
   ],
   "source": [
    "! kubectl get all,gw,vs,dr -n bookinfo"
   ]
  },
  {
   "cell_type": "code",
   "execution_count": 4,
   "metadata": {},
   "outputs": [
    {
     "name": "stdout",
     "output_type": "stream",
     "text": [
      "apiVersion: v1\n",
      "items:\n",
      "- apiVersion: networking.istio.io/v1alpha3\n",
      "  kind: Gateway\n",
      "  metadata:\n",
      "    annotations:\n",
      "      kubectl.kubernetes.io/last-applied-configuration: |\n",
      "        {\"apiVersion\":\"networking.istio.io/v1alpha3\",\"kind\":\"Gateway\",\"metadata\":{\"annotations\":{},\"name\":\"bookinfo-gateway\",\"namespace\":\"bookinfo\"},\"spec\":{\"selector\":{\"istio\":\"ingressgateway\"},\"servers\":[{\"hosts\":[\"*\"],\"port\":{\"name\":\"http\",\"number\":80,\"protocol\":\"HTTP\"}}]}}\n",
      "    creationTimestamp: \"2019-10-28T18:18:43Z\"\n",
      "    generation: 1\n",
      "    name: bookinfo-gateway\n",
      "    namespace: bookinfo\n",
      "    resourceVersion: \"47521\"\n",
      "    selfLink: /apis/networking.istio.io/v1alpha3/namespaces/bookinfo/gateways/bookinfo-gateway\n",
      "    uid: d8607d90-94bf-47e7-b7f1-fa4d5cb89cf8\n",
      "  spec:\n",
      "    selector:\n",
      "      istio: ingressgateway\n",
      "    servers:\n",
      "    - hosts:\n",
      "      - '*'\n",
      "      port:\n",
      "        name: http\n",
      "        number: 80\n",
      "        protocol: HTTP\n",
      "- apiVersion: networking.istio.io/v1alpha3\n",
      "  kind: VirtualService\n",
      "  metadata:\n",
      "    annotations:\n",
      "      kubectl.kubernetes.io/last-applied-configuration: |\n",
      "        {\"apiVersion\":\"networking.istio.io/v1alpha3\",\"kind\":\"VirtualService\",\"metadata\":{\"annotations\":{},\"name\":\"bookinfo\",\"namespace\":\"bookinfo\"},\"spec\":{\"gateways\":[\"bookinfo-gateway\"],\"hosts\":[\"*\"],\"http\":[{\"match\":[{\"uri\":{\"exact\":\"/productpage\"}},{\"uri\":{\"prefix\":\"/static\"}},{\"uri\":{\"exact\":\"/login\"}},{\"uri\":{\"exact\":\"/logout\"}},{\"uri\":{\"prefix\":\"/api/v1/products\"}}],\"route\":[{\"destination\":{\"host\":\"productpage\",\"port\":{\"number\":9080}}}]}]}}\n",
      "    creationTimestamp: \"2019-10-28T18:18:43Z\"\n",
      "    generation: 1\n",
      "    name: bookinfo\n",
      "    namespace: bookinfo\n",
      "    resourceVersion: \"47523\"\n",
      "    selfLink: /apis/networking.istio.io/v1alpha3/namespaces/bookinfo/virtualservices/bookinfo\n",
      "    uid: 2cc0d3a3-fce2-4f62-b72e-a4ba36082db0\n",
      "  spec:\n",
      "    gateways:\n",
      "    - bookinfo-gateway\n",
      "    hosts:\n",
      "    - '*'\n",
      "    http:\n",
      "    - match:\n",
      "      - uri:\n",
      "          exact: /productpage\n",
      "      - uri:\n",
      "          prefix: /static\n",
      "      - uri:\n",
      "          exact: /login\n",
      "      - uri:\n",
      "          exact: /logout\n",
      "      - uri:\n",
      "          prefix: /api/v1/products\n",
      "      route:\n",
      "      - destination:\n",
      "          host: productpage\n",
      "          port:\n",
      "            number: 9080\n",
      "- apiVersion: networking.istio.io/v1alpha3\n",
      "  kind: DestinationRule\n",
      "  metadata:\n",
      "    annotations:\n",
      "      kubectl.kubernetes.io/last-applied-configuration: |\n",
      "        {\"apiVersion\":\"networking.istio.io/v1alpha3\",\"kind\":\"DestinationRule\",\"metadata\":{\"annotations\":{},\"name\":\"details\",\"namespace\":\"bookinfo\"},\"spec\":{\"host\":\"details\",\"subsets\":[{\"labels\":{\"version\":\"v1\"},\"name\":\"v1\"},{\"labels\":{\"version\":\"v2\"},\"name\":\"v2\"}]}}\n",
      "    creationTimestamp: \"2019-10-28T18:18:46Z\"\n",
      "    generation: 1\n",
      "    name: details\n",
      "    namespace: bookinfo\n",
      "    resourceVersion: \"47558\"\n",
      "    selfLink: /apis/networking.istio.io/v1alpha3/namespaces/bookinfo/destinationrules/details\n",
      "    uid: 915b2f12-4d38-4e2b-a222-f42012f86046\n",
      "  spec:\n",
      "    host: details\n",
      "    subsets:\n",
      "    - labels:\n",
      "        version: v1\n",
      "      name: v1\n",
      "    - labels:\n",
      "        version: v2\n",
      "      name: v2\n",
      "- apiVersion: networking.istio.io/v1alpha3\n",
      "  kind: DestinationRule\n",
      "  metadata:\n",
      "    annotations:\n",
      "      kubectl.kubernetes.io/last-applied-configuration: |\n",
      "        {\"apiVersion\":\"networking.istio.io/v1alpha3\",\"kind\":\"DestinationRule\",\"metadata\":{\"annotations\":{},\"name\":\"productpage\",\"namespace\":\"bookinfo\"},\"spec\":{\"host\":\"productpage\",\"subsets\":[{\"labels\":{\"version\":\"v1\"},\"name\":\"v1\"}]}}\n",
      "    creationTimestamp: \"2019-10-28T18:18:45Z\"\n",
      "    generation: 1\n",
      "    name: productpage\n",
      "    namespace: bookinfo\n",
      "    resourceVersion: \"47549\"\n",
      "    selfLink: /apis/networking.istio.io/v1alpha3/namespaces/bookinfo/destinationrules/productpage\n",
      "    uid: 3a4f2d03-449a-4f4d-b7fa-4e43be35510f\n",
      "  spec:\n",
      "    host: productpage\n",
      "    subsets:\n",
      "    - labels:\n",
      "        version: v1\n",
      "      name: v1\n",
      "- apiVersion: networking.istio.io/v1alpha3\n",
      "  kind: DestinationRule\n",
      "  metadata:\n",
      "    annotations:\n",
      "      kubectl.kubernetes.io/last-applied-configuration: |\n",
      "        {\"apiVersion\":\"networking.istio.io/v1alpha3\",\"kind\":\"DestinationRule\",\"metadata\":{\"annotations\":{},\"name\":\"ratings\",\"namespace\":\"bookinfo\"},\"spec\":{\"host\":\"ratings\",\"subsets\":[{\"labels\":{\"version\":\"v1\"},\"name\":\"v1\"},{\"labels\":{\"version\":\"v2\"},\"name\":\"v2\"},{\"labels\":{\"version\":\"v2-mysql\"},\"name\":\"v2-mysql\"},{\"labels\":{\"version\":\"v2-mysql-vm\"},\"name\":\"v2-mysql-vm\"}]}}\n",
      "    creationTimestamp: \"2019-10-28T18:18:46Z\"\n",
      "    generation: 1\n",
      "    name: ratings\n",
      "    namespace: bookinfo\n",
      "    resourceVersion: \"47555\"\n",
      "    selfLink: /apis/networking.istio.io/v1alpha3/namespaces/bookinfo/destinationrules/ratings\n",
      "    uid: 85c35ae6-3a46-4c19-ae8e-593bb35d6115\n",
      "  spec:\n",
      "    host: ratings\n",
      "    subsets:\n",
      "    - labels:\n",
      "        version: v1\n",
      "      name: v1\n",
      "    - labels:\n",
      "        version: v2\n",
      "      name: v2\n",
      "    - labels:\n",
      "        version: v2-mysql\n",
      "      name: v2-mysql\n",
      "    - labels:\n",
      "        version: v2-mysql-vm\n",
      "      name: v2-mysql-vm\n",
      "- apiVersion: networking.istio.io/v1alpha3\n",
      "  kind: DestinationRule\n",
      "  metadata:\n",
      "    annotations:\n",
      "      kubectl.kubernetes.io/last-applied-configuration: |\n",
      "        {\"apiVersion\":\"networking.istio.io/v1alpha3\",\"kind\":\"DestinationRule\",\"metadata\":{\"annotations\":{},\"name\":\"reviews\",\"namespace\":\"bookinfo\"},\"spec\":{\"host\":\"reviews\",\"subsets\":[{\"labels\":{\"version\":\"v1\"},\"name\":\"v1\"},{\"labels\":{\"version\":\"v2\"},\"name\":\"v2\"},{\"labels\":{\"version\":\"v3\"},\"name\":\"v3\"}]}}\n",
      "    creationTimestamp: \"2019-10-28T18:18:45Z\"\n",
      "    generation: 1\n",
      "    name: reviews\n",
      "    namespace: bookinfo\n",
      "    resourceVersion: \"47550\"\n",
      "    selfLink: /apis/networking.istio.io/v1alpha3/namespaces/bookinfo/destinationrules/reviews\n",
      "    uid: b39728fc-f980-4d89-bc1b-61d0e87d72b1\n",
      "  spec:\n",
      "    host: reviews\n",
      "    subsets:\n",
      "    - labels:\n",
      "        version: v1\n",
      "      name: v1\n",
      "    - labels:\n",
      "        version: v2\n",
      "      name: v2\n",
      "    - labels:\n",
      "        version: v3\n",
      "      name: v3\n",
      "kind: List\n",
      "metadata:\n",
      "  resourceVersion: \"\"\n",
      "  selfLink: \"\"\n"
     ]
    }
   ],
   "source": [
    "! kubectl get gw,vs,dr -n bookinfo -o yaml"
   ]
  },
  {
   "cell_type": "markdown",
   "metadata": {},
   "source": [
    "![](https://istio.io/docs/examples/bookinfo/noistio.svg)\n",
    "\n",
    "Quelle: istio.io\n",
    "\n",
    "- - - \n",
    "\n",
    "Schauen wir uns aber zuerst die Applikation an. \n",
    "\n",
    "Die Bookinfo-Anwendung ist in vier separate Microservices unterteilt:\n",
    "\n",
    "* productpage: Der productpage Microservice ruft die Microservices details und reviews auf, um die Seite zu füllen.\n",
    "* details: Der details Microservice enthält Buchinformationen.\n",
    "* reviews: Der reviews Microservice enthält Buchbesprechungen. Es ruft auch den ratings Microservice auf.\n",
    "* ratings: Der ratings Microservice enthält Buchranginformationen, die einer Buchbesprechung beigefügt sind.\n",
    "\n",
    "Es gibt 3 Versionen des reviews Microservice:\n",
    "* Version v1 ruft den ratings Microservice nicht auf.\n",
    "* Version v2 ruft den ratings Microservice auf und zeigt jede Bewertung als 1 bis 5 schwarze Sterne an.\n",
    "* Version v3 ruft den ratings Microservice auf und zeigt jede Bewertung als 1 bis 5 rote Sterne an.\n",
    "\n",
    "Diese Anwendung sind in mehreren Programmiersprache implementiert.\n",
    "\n",
    "Die Microservices enthalten keine Abhängigkeiten und wissen auch nichts von Istio. Sie wurden auch nicht speziell Angepasst um mit Istio zu funktionieren.\n",
    "\n",
    "Das User Interface kann wie folgt angewählt werden:"
   ]
  },
  {
   "cell_type": "code",
   "execution_count": 5,
   "metadata": {},
   "outputs": [
    {
     "name": "stdout",
     "output_type": "stream",
     "text": [
      "http://192.168.137.100:31380/productpage\r\n"
     ]
    }
   ],
   "source": [
    "! echo \"$(kubectl config view -o=jsonpath='{ .clusters[0].cluster.server }' | sed -e 's/https:/http:/' -e \"s/6443/31380/g\")/productpage\""
   ]
  },
  {
   "cell_type": "markdown",
   "metadata": {},
   "source": [
    "Wählen wir die Seite mehrmals an, wird abwechselnd einer der drei Version vom Microservice `reviews` aufgerufen.\n",
    "\n",
    "Um gezielt:\n",
    "\n",
    "* nur eine Version aufzurufen, Version 1 oder 3\n",
    "* Analog eines Canary Rollout 50/50 Prozent Version 2 und 3 aufzurufen\n",
    "\n",
    "stehen vorbereitete YAML Dateien zu Verfügung. Führen Sie diese jeweils einzeln aus und Testen im UI den Effekt. Dabei kann 1 - 2 Minuten dauern, bis die Regeln aktiv werden."
   ]
  },
  {
   "cell_type": "code",
   "execution_count": 6,
   "metadata": {},
   "outputs": [
    {
     "name": "stdout",
     "output_type": "stream",
     "text": [
      "virtualservice.networking.istio.io/productpage created\n",
      "virtualservice.networking.istio.io/reviews created\n",
      "virtualservice.networking.istio.io/ratings created\n",
      "virtualservice.networking.istio.io/details created\n"
     ]
    }
   ],
   "source": [
    "! kubectl apply -f istio-1.3.3/samples/bookinfo/networking/virtual-service-all-v1.yaml -n bookinfo"
   ]
  },
  {
   "cell_type": "code",
   "execution_count": 7,
   "metadata": {},
   "outputs": [
    {
     "name": "stdout",
     "output_type": "stream",
     "text": [
      "virtualservice.networking.istio.io/reviews configured\r\n"
     ]
    }
   ],
   "source": [
    "! kubectl apply -f istio-1.3.3/samples/bookinfo/networking/virtual-service-reviews-v3.yaml -n bookinfo"
   ]
  },
  {
   "cell_type": "code",
   "execution_count": 8,
   "metadata": {},
   "outputs": [
    {
     "name": "stdout",
     "output_type": "stream",
     "text": [
      "virtualservice.networking.istio.io/reviews configured\r\n"
     ]
    }
   ],
   "source": [
    "! kubectl apply -f istio-1.3.3/samples/bookinfo/networking/virtual-service-reviews-v2-v3.yaml -n bookinfo"
   ]
  },
  {
   "cell_type": "markdown",
   "metadata": {},
   "source": [
    "*** \n",
    "### Tools\n",
    "\n",
    "#### Kiali — Observability\n",
    "\n",
    "[Kiali](https://www.kiali.io/) ist eine Web UI für Istio. Es hilft Ihnen, die Struktur Ihres Servicenetzes und deren Topologie zu verstehen.\n",
    "  \n",
    "#### Jaeger — Tracing\n",
    "\n",
    "Die Ablaufinformationen für Kiali werden durch das verteiltes Tracing-System [Jaeger](https://www.jaegertracing.io/) bereitgestellt.\n",
    "\n",
    "Beide Tools sind jedoch nur auf dem Cluster zugänglich. Deshalb müssen wir diese zuerst freischalten bzw. gegen NodePort öffnen:"
   ]
  },
  {
   "cell_type": "code",
   "execution_count": 9,
   "metadata": {},
   "outputs": [
    {
     "name": "stdout",
     "output_type": "stream",
     "text": [
      "service/kiali configured\n",
      "service/jaeger-query configured\n"
     ]
    }
   ],
   "source": [
    "! kubectl get service -n istio-system -l app=kiali -o yaml | sed 's/ClusterIP/NodePort/g' | kubectl apply -f -\n",
    "! kubectl get service jaeger-query -n istio-system -o yaml | sed 's/ClusterIP/NodePort/g' | kubectl apply -f -"
   ]
  },
  {
   "cell_type": "markdown",
   "metadata": {},
   "source": [
    "Sind Sie freigeschaltet, können wir Sie wie andere Services via Cluster-IP und Port erreichen:"
   ]
  },
  {
   "cell_type": "code",
   "execution_count": 10,
   "metadata": {},
   "outputs": [
    {
     "name": "stdout",
     "output_type": "stream",
     "text": [
      "Kaili  UI:  http://192.168.137.100:32183\n",
      "Jeager UI:  http://192.168.137.100:32461\n"
     ]
    }
   ],
   "source": [
    "! echo \"Kaili  UI: \" $(kubectl config view -o=jsonpath='{ .clusters[0].cluster.server }' | sed -e 's/https:/http:/' -e \"s/6443/$(kubectl get service -n istio-system -l app=kiali -o yaml -o=jsonpath='{ .items[0].spec.ports[0].nodePort }')/g\")\n",
    "! echo \"Jeager UI: \" $(kubectl config view -o=jsonpath='{ .clusters[0].cluster.server }' | sed -e 's/https:/http:/' -e \"s/6443/$(kubectl get service jaeger-query -n istio-system -o=jsonpath='{ .spec.ports[0].nodePort }')/g\")  "
   ]
  },
  {
   "cell_type": "markdown",
   "metadata": {},
   "source": [
    "Aufräumen"
   ]
  },
  {
   "cell_type": "code",
   "execution_count": 11,
   "metadata": {},
   "outputs": [
    {
     "name": "stdout",
     "output_type": "stream",
     "text": [
      "namespace \"bookinfo\" deleted\r\n"
     ]
    }
   ],
   "source": [
    "! kubectl delete namespace bookinfo"
   ]
  },
  {
   "cell_type": "markdown",
   "metadata": {},
   "source": [
    "***\n",
    "\n",
    "Weitere Beispiele siehe Projekt [duk](https://github.com/mc-b/duk/tree/master/istio).\n"
   ]
  },
  {
   "cell_type": "code",
   "execution_count": null,
   "metadata": {},
   "outputs": [],
   "source": []
  }
 ],
 "metadata": {
  "kernelspec": {
   "display_name": "Python 3",
   "language": "python",
   "name": "python3"
  },
  "language_info": {
   "codemirror_mode": {
    "name": "ipython",
    "version": 3
   },
   "file_extension": ".py",
   "mimetype": "text/x-python",
   "name": "python",
   "nbconvert_exporter": "python",
   "pygments_lexer": "ipython3",
   "version": "3.7.3"
  }
 },
 "nbformat": 4,
 "nbformat_minor": 2
}
